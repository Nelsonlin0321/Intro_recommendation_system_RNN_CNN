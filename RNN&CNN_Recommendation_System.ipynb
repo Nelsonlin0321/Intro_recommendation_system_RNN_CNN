{
 "cells": [
  {
   "cell_type": "markdown",
   "metadata": {},
   "source": [
    "### 1. Introduction: Recommendation System based on RNN and CNN\n",
    "- This is a jupyter notebook to show idea and instructions of how to build up a simple recommendation system based on series user customers behaviour using RNN and and CNN.\n",
    "- Scenario (RNN)： We have customers' past behaviors data and what products they bought previously. The past information and products they bought can be treated as series data. For one customer, he or she can have several rows of data beacause previously he or she bought several products with corresponding past information, like age, marriage status, family size etc. we can use lstm a time series deep learning model to learn the customer bahaviors pattern to find which product they will buy next according to their previous behavior. This deep learning model so can be used as recommendation system. The latest product they bought is treated as a training lable, the previous information like age, marriage status, number of children and the products they already bought,ared used features for each time stage. The picture below represents the customer bebehavior.\n",
    "![](image.png)\n",
    "- Scenario (CNN): As we know,CNN is a kind of deep learning model is to extract the regional features of images, with high-performance in  doing images classification and recogintion. Now, we also can treated customer behaviour as images to do product prediction, the logic same as images classification."
   ]
  },
  {
   "cell_type": "code",
   "execution_count": 8,
   "metadata": {},
   "outputs": [],
   "source": [
    "import pandas as pd\n",
    "import time\n",
    "import numpy as np"
   ]
  },
  {
   "cell_type": "code",
   "execution_count": 4,
   "metadata": {},
   "outputs": [],
   "source": [
    "import tensorflow as tf\n",
    "import tensorflow.contrib.slim as slim"
   ]
  },
  {
   "cell_type": "markdown",
   "metadata": {},
   "source": [
    "### 2. Create Random DataSet"
   ]
  },
  {
   "cell_type": "code",
   "execution_count": 9,
   "metadata": {},
   "outputs": [],
   "source": [
    "np.random.seed(10)"
   ]
  },
  {
   "cell_type": "code",
   "execution_count": 10,
   "metadata": {},
   "outputs": [],
   "source": [
    "data_size = 100000"
   ]
  },
  {
   "cell_type": "code",
   "execution_count": 11,
   "metadata": {},
   "outputs": [],
   "source": [
    "customer_size = 5000"
   ]
  },
  {
   "cell_type": "code",
   "execution_count": 12,
   "metadata": {},
   "outputs": [],
   "source": [
    "customer_id = np.random.randint(0,customer_size,data_size)"
   ]
  },
  {
   "cell_type": "code",
   "execution_count": 13,
   "metadata": {},
   "outputs": [],
   "source": [
    "customer_id = customer_id.reshape([len(customer_id),1])"
   ]
  },
  {
   "cell_type": "code",
   "execution_count": 14,
   "metadata": {},
   "outputs": [
    {
     "data": {
      "text/plain": [
       "(100000, 1)"
      ]
     },
     "execution_count": 14,
     "metadata": {},
     "output_type": "execute_result"
    }
   ],
   "source": [
    "customer_id.shape"
   ]
  },
  {
   "cell_type": "code",
   "execution_count": 15,
   "metadata": {},
   "outputs": [],
   "source": [
    "np.random.seed(10)"
   ]
  },
  {
   "cell_type": "code",
   "execution_count": 16,
   "metadata": {},
   "outputs": [],
   "source": [
    "feature_size = 30"
   ]
  },
  {
   "cell_type": "code",
   "execution_count": 17,
   "metadata": {},
   "outputs": [],
   "source": [
    "features = np.random.random(size = (data_size,feature_size))"
   ]
  },
  {
   "cell_type": "code",
   "execution_count": 18,
   "metadata": {},
   "outputs": [],
   "source": [
    "data = np.concatenate((customer_id,features),axis = 1)"
   ]
  },
  {
   "cell_type": "code",
   "execution_count": 19,
   "metadata": {},
   "outputs": [
    {
     "data": {
      "text/plain": [
       "(100000, 31)"
      ]
     },
     "execution_count": 19,
     "metadata": {},
     "output_type": "execute_result"
    }
   ],
   "source": [
    "data.shape"
   ]
  },
  {
   "cell_type": "code",
   "execution_count": 20,
   "metadata": {},
   "outputs": [],
   "source": [
    "data = pd.DataFrame(data)"
   ]
  },
  {
   "cell_type": "code",
   "execution_count": 21,
   "metadata": {},
   "outputs": [],
   "source": [
    "columns = ['customer_id']"
   ]
  },
  {
   "cell_type": "code",
   "execution_count": 22,
   "metadata": {},
   "outputs": [],
   "source": [
    "features_columns = ['feature_%d'%_ for _ in range(1,feature_size+1)]"
   ]
  },
  {
   "cell_type": "code",
   "execution_count": 23,
   "metadata": {},
   "outputs": [],
   "source": [
    "columns.extend(features_columns)"
   ]
  },
  {
   "cell_type": "code",
   "execution_count": 24,
   "metadata": {},
   "outputs": [],
   "source": [
    "data.columns = columns"
   ]
  },
  {
   "cell_type": "code",
   "execution_count": 25,
   "metadata": {},
   "outputs": [],
   "source": [
    "target_num = 5"
   ]
  },
  {
   "cell_type": "code",
   "execution_count": 26,
   "metadata": {},
   "outputs": [],
   "source": [
    "np.random.seed(10)\n",
    "target_field = np.random.randint(0,target_num,size = data_size)"
   ]
  },
  {
   "cell_type": "code",
   "execution_count": 27,
   "metadata": {},
   "outputs": [
    {
     "data": {
      "text/plain": [
       "array([1, 4, 0, ..., 1, 4, 3])"
      ]
     },
     "execution_count": 27,
     "metadata": {},
     "output_type": "execute_result"
    }
   ],
   "source": [
    "target_field"
   ]
  },
  {
   "cell_type": "code",
   "execution_count": 28,
   "metadata": {},
   "outputs": [],
   "source": [
    "data['target'] = target_field"
   ]
  },
  {
   "cell_type": "code",
   "execution_count": 29,
   "metadata": {},
   "outputs": [
    {
     "data": {
      "text/html": [
       "<div>\n",
       "<style scoped>\n",
       "    .dataframe tbody tr th:only-of-type {\n",
       "        vertical-align: middle;\n",
       "    }\n",
       "\n",
       "    .dataframe tbody tr th {\n",
       "        vertical-align: top;\n",
       "    }\n",
       "\n",
       "    .dataframe thead th {\n",
       "        text-align: right;\n",
       "    }\n",
       "</style>\n",
       "<table border=\"1\" class=\"dataframe\">\n",
       "  <thead>\n",
       "    <tr style=\"text-align: right;\">\n",
       "      <th></th>\n",
       "      <th>customer_id</th>\n",
       "      <th>feature_1</th>\n",
       "      <th>feature_2</th>\n",
       "      <th>feature_3</th>\n",
       "      <th>feature_4</th>\n",
       "      <th>feature_5</th>\n",
       "      <th>feature_6</th>\n",
       "      <th>feature_7</th>\n",
       "      <th>feature_8</th>\n",
       "      <th>feature_9</th>\n",
       "      <th>...</th>\n",
       "      <th>feature_22</th>\n",
       "      <th>feature_23</th>\n",
       "      <th>feature_24</th>\n",
       "      <th>feature_25</th>\n",
       "      <th>feature_26</th>\n",
       "      <th>feature_27</th>\n",
       "      <th>feature_28</th>\n",
       "      <th>feature_29</th>\n",
       "      <th>feature_30</th>\n",
       "      <th>target</th>\n",
       "    </tr>\n",
       "  </thead>\n",
       "  <tbody>\n",
       "    <tr>\n",
       "      <th>0</th>\n",
       "      <td>1289.0</td>\n",
       "      <td>0.771321</td>\n",
       "      <td>0.020752</td>\n",
       "      <td>0.633648</td>\n",
       "      <td>0.748804</td>\n",
       "      <td>0.498507</td>\n",
       "      <td>0.224797</td>\n",
       "      <td>0.198063</td>\n",
       "      <td>0.760531</td>\n",
       "      <td>0.169111</td>\n",
       "      <td>...</td>\n",
       "      <td>0.142170</td>\n",
       "      <td>0.373341</td>\n",
       "      <td>0.674134</td>\n",
       "      <td>0.441833</td>\n",
       "      <td>0.434014</td>\n",
       "      <td>0.617767</td>\n",
       "      <td>0.513138</td>\n",
       "      <td>0.650397</td>\n",
       "      <td>0.601039</td>\n",
       "      <td>1</td>\n",
       "    </tr>\n",
       "    <tr>\n",
       "      <th>1</th>\n",
       "      <td>4623.0</td>\n",
       "      <td>0.805223</td>\n",
       "      <td>0.521647</td>\n",
       "      <td>0.908649</td>\n",
       "      <td>0.319236</td>\n",
       "      <td>0.090459</td>\n",
       "      <td>0.300700</td>\n",
       "      <td>0.113984</td>\n",
       "      <td>0.828681</td>\n",
       "      <td>0.046896</td>\n",
       "      <td>...</td>\n",
       "      <td>0.093460</td>\n",
       "      <td>0.821106</td>\n",
       "      <td>0.151152</td>\n",
       "      <td>0.384114</td>\n",
       "      <td>0.944261</td>\n",
       "      <td>0.987625</td>\n",
       "      <td>0.456305</td>\n",
       "      <td>0.826123</td>\n",
       "      <td>0.251374</td>\n",
       "      <td>4</td>\n",
       "    </tr>\n",
       "    <tr>\n",
       "      <th>2</th>\n",
       "      <td>1344.0</td>\n",
       "      <td>0.597372</td>\n",
       "      <td>0.902832</td>\n",
       "      <td>0.534558</td>\n",
       "      <td>0.590201</td>\n",
       "      <td>0.039282</td>\n",
       "      <td>0.357182</td>\n",
       "      <td>0.079613</td>\n",
       "      <td>0.305460</td>\n",
       "      <td>0.330719</td>\n",
       "      <td>...</td>\n",
       "      <td>0.513467</td>\n",
       "      <td>0.597837</td>\n",
       "      <td>0.262216</td>\n",
       "      <td>0.300871</td>\n",
       "      <td>0.025400</td>\n",
       "      <td>0.303063</td>\n",
       "      <td>0.242076</td>\n",
       "      <td>0.557578</td>\n",
       "      <td>0.565507</td>\n",
       "      <td>0</td>\n",
       "    </tr>\n",
       "    <tr>\n",
       "      <th>3</th>\n",
       "      <td>3441.0</td>\n",
       "      <td>0.475132</td>\n",
       "      <td>0.292798</td>\n",
       "      <td>0.064251</td>\n",
       "      <td>0.978819</td>\n",
       "      <td>0.339708</td>\n",
       "      <td>0.495049</td>\n",
       "      <td>0.977081</td>\n",
       "      <td>0.440774</td>\n",
       "      <td>0.318273</td>\n",
       "      <td>...</td>\n",
       "      <td>0.512334</td>\n",
       "      <td>0.673467</td>\n",
       "      <td>0.159194</td>\n",
       "      <td>0.050478</td>\n",
       "      <td>0.337816</td>\n",
       "      <td>0.108064</td>\n",
       "      <td>0.178903</td>\n",
       "      <td>0.885827</td>\n",
       "      <td>0.365365</td>\n",
       "      <td>1</td>\n",
       "    </tr>\n",
       "    <tr>\n",
       "      <th>4</th>\n",
       "      <td>1180.0</td>\n",
       "      <td>0.218769</td>\n",
       "      <td>0.752496</td>\n",
       "      <td>0.106880</td>\n",
       "      <td>0.744603</td>\n",
       "      <td>0.469785</td>\n",
       "      <td>0.598256</td>\n",
       "      <td>0.147620</td>\n",
       "      <td>0.184035</td>\n",
       "      <td>0.645072</td>\n",
       "      <td>...</td>\n",
       "      <td>0.791757</td>\n",
       "      <td>0.561557</td>\n",
       "      <td>0.877335</td>\n",
       "      <td>0.584196</td>\n",
       "      <td>0.708850</td>\n",
       "      <td>0.148533</td>\n",
       "      <td>0.428451</td>\n",
       "      <td>0.693890</td>\n",
       "      <td>0.104620</td>\n",
       "      <td>3</td>\n",
       "    </tr>\n",
       "  </tbody>\n",
       "</table>\n",
       "<p>5 rows × 32 columns</p>\n",
       "</div>"
      ],
      "text/plain": [
       "   customer_id  feature_1  feature_2  feature_3  feature_4  feature_5  \\\n",
       "0       1289.0   0.771321   0.020752   0.633648   0.748804   0.498507   \n",
       "1       4623.0   0.805223   0.521647   0.908649   0.319236   0.090459   \n",
       "2       1344.0   0.597372   0.902832   0.534558   0.590201   0.039282   \n",
       "3       3441.0   0.475132   0.292798   0.064251   0.978819   0.339708   \n",
       "4       1180.0   0.218769   0.752496   0.106880   0.744603   0.469785   \n",
       "\n",
       "   feature_6  feature_7  feature_8  feature_9   ...    feature_22  feature_23  \\\n",
       "0   0.224797   0.198063   0.760531   0.169111   ...      0.142170    0.373341   \n",
       "1   0.300700   0.113984   0.828681   0.046896   ...      0.093460    0.821106   \n",
       "2   0.357182   0.079613   0.305460   0.330719   ...      0.513467    0.597837   \n",
       "3   0.495049   0.977081   0.440774   0.318273   ...      0.512334    0.673467   \n",
       "4   0.598256   0.147620   0.184035   0.645072   ...      0.791757    0.561557   \n",
       "\n",
       "   feature_24  feature_25  feature_26  feature_27  feature_28  feature_29  \\\n",
       "0    0.674134    0.441833    0.434014    0.617767    0.513138    0.650397   \n",
       "1    0.151152    0.384114    0.944261    0.987625    0.456305    0.826123   \n",
       "2    0.262216    0.300871    0.025400    0.303063    0.242076    0.557578   \n",
       "3    0.159194    0.050478    0.337816    0.108064    0.178903    0.885827   \n",
       "4    0.877335    0.584196    0.708850    0.148533    0.428451    0.693890   \n",
       "\n",
       "   feature_30  target  \n",
       "0    0.601039       1  \n",
       "1    0.251374       4  \n",
       "2    0.565507       0  \n",
       "3    0.365365       1  \n",
       "4    0.104620       3  \n",
       "\n",
       "[5 rows x 32 columns]"
      ]
     },
     "execution_count": 29,
     "metadata": {},
     "output_type": "execute_result"
    }
   ],
   "source": [
    "data.head()"
   ]
  },
  {
   "cell_type": "markdown",
   "metadata": {},
   "source": [
    "####### feature_1 is the date features, sort the behaviors from oldest to latest"
   ]
  },
  {
   "cell_type": "code",
   "execution_count": 30,
   "metadata": {},
   "outputs": [],
   "source": [
    "data = data.sort_values(by=['customer_id','feature_1'],ascending=[True,True])"
   ]
  },
  {
   "cell_type": "markdown",
   "metadata": {},
   "source": [
    "### 3: OneHotEncoding of Target Value"
   ]
  },
  {
   "cell_type": "code",
   "execution_count": 31,
   "metadata": {},
   "outputs": [],
   "source": [
    "target_oneHot = pd.get_dummies(data=data['target'],prefix='target')"
   ]
  },
  {
   "cell_type": "code",
   "execution_count": 32,
   "metadata": {},
   "outputs": [
    {
     "data": {
      "text/html": [
       "<div>\n",
       "<style scoped>\n",
       "    .dataframe tbody tr th:only-of-type {\n",
       "        vertical-align: middle;\n",
       "    }\n",
       "\n",
       "    .dataframe tbody tr th {\n",
       "        vertical-align: top;\n",
       "    }\n",
       "\n",
       "    .dataframe thead th {\n",
       "        text-align: right;\n",
       "    }\n",
       "</style>\n",
       "<table border=\"1\" class=\"dataframe\">\n",
       "  <thead>\n",
       "    <tr style=\"text-align: right;\">\n",
       "      <th></th>\n",
       "      <th>target_0</th>\n",
       "      <th>target_1</th>\n",
       "      <th>target_2</th>\n",
       "      <th>target_3</th>\n",
       "      <th>target_4</th>\n",
       "    </tr>\n",
       "  </thead>\n",
       "  <tbody>\n",
       "    <tr>\n",
       "      <th>51889</th>\n",
       "      <td>0</td>\n",
       "      <td>0</td>\n",
       "      <td>0</td>\n",
       "      <td>1</td>\n",
       "      <td>0</td>\n",
       "    </tr>\n",
       "    <tr>\n",
       "      <th>46994</th>\n",
       "      <td>0</td>\n",
       "      <td>0</td>\n",
       "      <td>0</td>\n",
       "      <td>1</td>\n",
       "      <td>0</td>\n",
       "    </tr>\n",
       "    <tr>\n",
       "      <th>14978</th>\n",
       "      <td>0</td>\n",
       "      <td>0</td>\n",
       "      <td>0</td>\n",
       "      <td>0</td>\n",
       "      <td>1</td>\n",
       "    </tr>\n",
       "    <tr>\n",
       "      <th>64830</th>\n",
       "      <td>1</td>\n",
       "      <td>0</td>\n",
       "      <td>0</td>\n",
       "      <td>0</td>\n",
       "      <td>0</td>\n",
       "    </tr>\n",
       "    <tr>\n",
       "      <th>37829</th>\n",
       "      <td>0</td>\n",
       "      <td>1</td>\n",
       "      <td>0</td>\n",
       "      <td>0</td>\n",
       "      <td>0</td>\n",
       "    </tr>\n",
       "  </tbody>\n",
       "</table>\n",
       "</div>"
      ],
      "text/plain": [
       "       target_0  target_1  target_2  target_3  target_4\n",
       "51889         0         0         0         1         0\n",
       "46994         0         0         0         1         0\n",
       "14978         0         0         0         0         1\n",
       "64830         1         0         0         0         0\n",
       "37829         0         1         0         0         0"
      ]
     },
     "execution_count": 32,
     "metadata": {},
     "output_type": "execute_result"
    }
   ],
   "source": [
    "target_oneHot.head()"
   ]
  },
  {
   "cell_type": "code",
   "execution_count": 33,
   "metadata": {},
   "outputs": [],
   "source": [
    "data.drop(labels='target',inplace=True,axis=1)"
   ]
  },
  {
   "cell_type": "code",
   "execution_count": 34,
   "metadata": {},
   "outputs": [],
   "source": [
    "data = pd.concat([data,target_oneHot],axis = 1)"
   ]
  },
  {
   "cell_type": "code",
   "execution_count": 35,
   "metadata": {},
   "outputs": [
    {
     "data": {
      "text/html": [
       "<div>\n",
       "<style scoped>\n",
       "    .dataframe tbody tr th:only-of-type {\n",
       "        vertical-align: middle;\n",
       "    }\n",
       "\n",
       "    .dataframe tbody tr th {\n",
       "        vertical-align: top;\n",
       "    }\n",
       "\n",
       "    .dataframe thead th {\n",
       "        text-align: right;\n",
       "    }\n",
       "</style>\n",
       "<table border=\"1\" class=\"dataframe\">\n",
       "  <thead>\n",
       "    <tr style=\"text-align: right;\">\n",
       "      <th></th>\n",
       "      <th>customer_id</th>\n",
       "      <th>feature_1</th>\n",
       "      <th>feature_2</th>\n",
       "      <th>feature_3</th>\n",
       "      <th>feature_4</th>\n",
       "      <th>feature_5</th>\n",
       "      <th>feature_6</th>\n",
       "      <th>feature_7</th>\n",
       "      <th>feature_8</th>\n",
       "      <th>feature_9</th>\n",
       "      <th>...</th>\n",
       "      <th>feature_26</th>\n",
       "      <th>feature_27</th>\n",
       "      <th>feature_28</th>\n",
       "      <th>feature_29</th>\n",
       "      <th>feature_30</th>\n",
       "      <th>target_0</th>\n",
       "      <th>target_1</th>\n",
       "      <th>target_2</th>\n",
       "      <th>target_3</th>\n",
       "      <th>target_4</th>\n",
       "    </tr>\n",
       "  </thead>\n",
       "  <tbody>\n",
       "    <tr>\n",
       "      <th>51889</th>\n",
       "      <td>0.0</td>\n",
       "      <td>0.063120</td>\n",
       "      <td>0.749423</td>\n",
       "      <td>0.537111</td>\n",
       "      <td>0.850613</td>\n",
       "      <td>0.105087</td>\n",
       "      <td>0.085274</td>\n",
       "      <td>0.294656</td>\n",
       "      <td>0.709433</td>\n",
       "      <td>0.686156</td>\n",
       "      <td>...</td>\n",
       "      <td>0.937149</td>\n",
       "      <td>0.701153</td>\n",
       "      <td>0.063699</td>\n",
       "      <td>0.895404</td>\n",
       "      <td>0.536807</td>\n",
       "      <td>0</td>\n",
       "      <td>0</td>\n",
       "      <td>0</td>\n",
       "      <td>1</td>\n",
       "      <td>0</td>\n",
       "    </tr>\n",
       "    <tr>\n",
       "      <th>46994</th>\n",
       "      <td>0.0</td>\n",
       "      <td>0.159521</td>\n",
       "      <td>0.235517</td>\n",
       "      <td>0.167395</td>\n",
       "      <td>0.112889</td>\n",
       "      <td>0.341940</td>\n",
       "      <td>0.972764</td>\n",
       "      <td>0.204738</td>\n",
       "      <td>0.146144</td>\n",
       "      <td>0.187257</td>\n",
       "      <td>...</td>\n",
       "      <td>0.736712</td>\n",
       "      <td>0.730576</td>\n",
       "      <td>0.202271</td>\n",
       "      <td>0.721882</td>\n",
       "      <td>0.327341</td>\n",
       "      <td>0</td>\n",
       "      <td>0</td>\n",
       "      <td>0</td>\n",
       "      <td>1</td>\n",
       "      <td>0</td>\n",
       "    </tr>\n",
       "    <tr>\n",
       "      <th>14978</th>\n",
       "      <td>0.0</td>\n",
       "      <td>0.309795</td>\n",
       "      <td>0.411243</td>\n",
       "      <td>0.670433</td>\n",
       "      <td>0.976152</td>\n",
       "      <td>0.574918</td>\n",
       "      <td>0.001452</td>\n",
       "      <td>0.610816</td>\n",
       "      <td>0.675889</td>\n",
       "      <td>0.269606</td>\n",
       "      <td>...</td>\n",
       "      <td>0.163005</td>\n",
       "      <td>0.746287</td>\n",
       "      <td>0.674242</td>\n",
       "      <td>0.643898</td>\n",
       "      <td>0.119910</td>\n",
       "      <td>0</td>\n",
       "      <td>0</td>\n",
       "      <td>0</td>\n",
       "      <td>0</td>\n",
       "      <td>1</td>\n",
       "    </tr>\n",
       "    <tr>\n",
       "      <th>64830</th>\n",
       "      <td>0.0</td>\n",
       "      <td>0.329057</td>\n",
       "      <td>0.803545</td>\n",
       "      <td>0.331318</td>\n",
       "      <td>0.674232</td>\n",
       "      <td>0.669591</td>\n",
       "      <td>0.079732</td>\n",
       "      <td>0.211467</td>\n",
       "      <td>0.731866</td>\n",
       "      <td>0.353566</td>\n",
       "      <td>...</td>\n",
       "      <td>0.964159</td>\n",
       "      <td>0.697681</td>\n",
       "      <td>0.428046</td>\n",
       "      <td>0.217732</td>\n",
       "      <td>0.800923</td>\n",
       "      <td>1</td>\n",
       "      <td>0</td>\n",
       "      <td>0</td>\n",
       "      <td>0</td>\n",
       "      <td>0</td>\n",
       "    </tr>\n",
       "    <tr>\n",
       "      <th>37829</th>\n",
       "      <td>0.0</td>\n",
       "      <td>0.343327</td>\n",
       "      <td>0.657480</td>\n",
       "      <td>0.486471</td>\n",
       "      <td>0.081988</td>\n",
       "      <td>0.487649</td>\n",
       "      <td>0.432609</td>\n",
       "      <td>0.410132</td>\n",
       "      <td>0.621899</td>\n",
       "      <td>0.302678</td>\n",
       "      <td>...</td>\n",
       "      <td>0.393270</td>\n",
       "      <td>0.011887</td>\n",
       "      <td>0.235069</td>\n",
       "      <td>0.731576</td>\n",
       "      <td>0.448925</td>\n",
       "      <td>0</td>\n",
       "      <td>1</td>\n",
       "      <td>0</td>\n",
       "      <td>0</td>\n",
       "      <td>0</td>\n",
       "    </tr>\n",
       "  </tbody>\n",
       "</table>\n",
       "<p>5 rows × 36 columns</p>\n",
       "</div>"
      ],
      "text/plain": [
       "       customer_id  feature_1  feature_2  feature_3  feature_4  feature_5  \\\n",
       "51889          0.0   0.063120   0.749423   0.537111   0.850613   0.105087   \n",
       "46994          0.0   0.159521   0.235517   0.167395   0.112889   0.341940   \n",
       "14978          0.0   0.309795   0.411243   0.670433   0.976152   0.574918   \n",
       "64830          0.0   0.329057   0.803545   0.331318   0.674232   0.669591   \n",
       "37829          0.0   0.343327   0.657480   0.486471   0.081988   0.487649   \n",
       "\n",
       "       feature_6  feature_7  feature_8  feature_9    ...     feature_26  \\\n",
       "51889   0.085274   0.294656   0.709433   0.686156    ...       0.937149   \n",
       "46994   0.972764   0.204738   0.146144   0.187257    ...       0.736712   \n",
       "14978   0.001452   0.610816   0.675889   0.269606    ...       0.163005   \n",
       "64830   0.079732   0.211467   0.731866   0.353566    ...       0.964159   \n",
       "37829   0.432609   0.410132   0.621899   0.302678    ...       0.393270   \n",
       "\n",
       "       feature_27  feature_28  feature_29  feature_30  target_0  target_1  \\\n",
       "51889    0.701153    0.063699    0.895404    0.536807         0         0   \n",
       "46994    0.730576    0.202271    0.721882    0.327341         0         0   \n",
       "14978    0.746287    0.674242    0.643898    0.119910         0         0   \n",
       "64830    0.697681    0.428046    0.217732    0.800923         1         0   \n",
       "37829    0.011887    0.235069    0.731576    0.448925         0         1   \n",
       "\n",
       "       target_2  target_3  target_4  \n",
       "51889         0         1         0  \n",
       "46994         0         1         0  \n",
       "14978         0         0         1  \n",
       "64830         0         0         0  \n",
       "37829         0         0         0  \n",
       "\n",
       "[5 rows x 36 columns]"
      ]
     },
     "execution_count": 35,
     "metadata": {},
     "output_type": "execute_result"
    }
   ],
   "source": [
    "data.head()"
   ]
  },
  {
   "cell_type": "markdown",
   "metadata": {},
   "source": [
    "### 4. Visualization  of User Behaviors"
   ]
  },
  {
   "cell_type": "code",
   "execution_count": 36,
   "metadata": {},
   "outputs": [],
   "source": [
    "import matplotlib.pyplot as plt"
   ]
  },
  {
   "cell_type": "markdown",
   "metadata": {},
   "source": [
    "take customer id =1 as an example"
   ]
  },
  {
   "cell_type": "code",
   "execution_count": 37,
   "metadata": {},
   "outputs": [],
   "source": [
    "data_0 = data[data.customer_id==0]"
   ]
  },
  {
   "cell_type": "code",
   "execution_count": 38,
   "metadata": {},
   "outputs": [
    {
     "data": {
      "text/html": [
       "<div>\n",
       "<style scoped>\n",
       "    .dataframe tbody tr th:only-of-type {\n",
       "        vertical-align: middle;\n",
       "    }\n",
       "\n",
       "    .dataframe tbody tr th {\n",
       "        vertical-align: top;\n",
       "    }\n",
       "\n",
       "    .dataframe thead th {\n",
       "        text-align: right;\n",
       "    }\n",
       "</style>\n",
       "<table border=\"1\" class=\"dataframe\">\n",
       "  <thead>\n",
       "    <tr style=\"text-align: right;\">\n",
       "      <th></th>\n",
       "      <th>customer_id</th>\n",
       "      <th>feature_1</th>\n",
       "      <th>feature_2</th>\n",
       "      <th>feature_3</th>\n",
       "      <th>feature_4</th>\n",
       "      <th>feature_5</th>\n",
       "      <th>feature_6</th>\n",
       "      <th>feature_7</th>\n",
       "      <th>feature_8</th>\n",
       "      <th>feature_9</th>\n",
       "      <th>...</th>\n",
       "      <th>feature_26</th>\n",
       "      <th>feature_27</th>\n",
       "      <th>feature_28</th>\n",
       "      <th>feature_29</th>\n",
       "      <th>feature_30</th>\n",
       "      <th>target_0</th>\n",
       "      <th>target_1</th>\n",
       "      <th>target_2</th>\n",
       "      <th>target_3</th>\n",
       "      <th>target_4</th>\n",
       "    </tr>\n",
       "  </thead>\n",
       "  <tbody>\n",
       "    <tr>\n",
       "      <th>51889</th>\n",
       "      <td>0.0</td>\n",
       "      <td>0.063120</td>\n",
       "      <td>0.749423</td>\n",
       "      <td>0.537111</td>\n",
       "      <td>0.850613</td>\n",
       "      <td>0.105087</td>\n",
       "      <td>0.085274</td>\n",
       "      <td>0.294656</td>\n",
       "      <td>0.709433</td>\n",
       "      <td>0.686156</td>\n",
       "      <td>...</td>\n",
       "      <td>0.937149</td>\n",
       "      <td>0.701153</td>\n",
       "      <td>0.063699</td>\n",
       "      <td>0.895404</td>\n",
       "      <td>0.536807</td>\n",
       "      <td>0</td>\n",
       "      <td>0</td>\n",
       "      <td>0</td>\n",
       "      <td>1</td>\n",
       "      <td>0</td>\n",
       "    </tr>\n",
       "    <tr>\n",
       "      <th>46994</th>\n",
       "      <td>0.0</td>\n",
       "      <td>0.159521</td>\n",
       "      <td>0.235517</td>\n",
       "      <td>0.167395</td>\n",
       "      <td>0.112889</td>\n",
       "      <td>0.341940</td>\n",
       "      <td>0.972764</td>\n",
       "      <td>0.204738</td>\n",
       "      <td>0.146144</td>\n",
       "      <td>0.187257</td>\n",
       "      <td>...</td>\n",
       "      <td>0.736712</td>\n",
       "      <td>0.730576</td>\n",
       "      <td>0.202271</td>\n",
       "      <td>0.721882</td>\n",
       "      <td>0.327341</td>\n",
       "      <td>0</td>\n",
       "      <td>0</td>\n",
       "      <td>0</td>\n",
       "      <td>1</td>\n",
       "      <td>0</td>\n",
       "    </tr>\n",
       "    <tr>\n",
       "      <th>14978</th>\n",
       "      <td>0.0</td>\n",
       "      <td>0.309795</td>\n",
       "      <td>0.411243</td>\n",
       "      <td>0.670433</td>\n",
       "      <td>0.976152</td>\n",
       "      <td>0.574918</td>\n",
       "      <td>0.001452</td>\n",
       "      <td>0.610816</td>\n",
       "      <td>0.675889</td>\n",
       "      <td>0.269606</td>\n",
       "      <td>...</td>\n",
       "      <td>0.163005</td>\n",
       "      <td>0.746287</td>\n",
       "      <td>0.674242</td>\n",
       "      <td>0.643898</td>\n",
       "      <td>0.119910</td>\n",
       "      <td>0</td>\n",
       "      <td>0</td>\n",
       "      <td>0</td>\n",
       "      <td>0</td>\n",
       "      <td>1</td>\n",
       "    </tr>\n",
       "    <tr>\n",
       "      <th>64830</th>\n",
       "      <td>0.0</td>\n",
       "      <td>0.329057</td>\n",
       "      <td>0.803545</td>\n",
       "      <td>0.331318</td>\n",
       "      <td>0.674232</td>\n",
       "      <td>0.669591</td>\n",
       "      <td>0.079732</td>\n",
       "      <td>0.211467</td>\n",
       "      <td>0.731866</td>\n",
       "      <td>0.353566</td>\n",
       "      <td>...</td>\n",
       "      <td>0.964159</td>\n",
       "      <td>0.697681</td>\n",
       "      <td>0.428046</td>\n",
       "      <td>0.217732</td>\n",
       "      <td>0.800923</td>\n",
       "      <td>1</td>\n",
       "      <td>0</td>\n",
       "      <td>0</td>\n",
       "      <td>0</td>\n",
       "      <td>0</td>\n",
       "    </tr>\n",
       "    <tr>\n",
       "      <th>37829</th>\n",
       "      <td>0.0</td>\n",
       "      <td>0.343327</td>\n",
       "      <td>0.657480</td>\n",
       "      <td>0.486471</td>\n",
       "      <td>0.081988</td>\n",
       "      <td>0.487649</td>\n",
       "      <td>0.432609</td>\n",
       "      <td>0.410132</td>\n",
       "      <td>0.621899</td>\n",
       "      <td>0.302678</td>\n",
       "      <td>...</td>\n",
       "      <td>0.393270</td>\n",
       "      <td>0.011887</td>\n",
       "      <td>0.235069</td>\n",
       "      <td>0.731576</td>\n",
       "      <td>0.448925</td>\n",
       "      <td>0</td>\n",
       "      <td>1</td>\n",
       "      <td>0</td>\n",
       "      <td>0</td>\n",
       "      <td>0</td>\n",
       "    </tr>\n",
       "    <tr>\n",
       "      <th>27048</th>\n",
       "      <td>0.0</td>\n",
       "      <td>0.379392</td>\n",
       "      <td>0.167830</td>\n",
       "      <td>0.775259</td>\n",
       "      <td>0.625062</td>\n",
       "      <td>0.468299</td>\n",
       "      <td>0.978418</td>\n",
       "      <td>0.463808</td>\n",
       "      <td>0.144157</td>\n",
       "      <td>0.753293</td>\n",
       "      <td>...</td>\n",
       "      <td>0.052774</td>\n",
       "      <td>0.678438</td>\n",
       "      <td>0.157363</td>\n",
       "      <td>0.341157</td>\n",
       "      <td>0.698192</td>\n",
       "      <td>0</td>\n",
       "      <td>0</td>\n",
       "      <td>1</td>\n",
       "      <td>0</td>\n",
       "      <td>0</td>\n",
       "    </tr>\n",
       "    <tr>\n",
       "      <th>54156</th>\n",
       "      <td>0.0</td>\n",
       "      <td>0.396299</td>\n",
       "      <td>0.839793</td>\n",
       "      <td>0.323814</td>\n",
       "      <td>0.358130</td>\n",
       "      <td>0.895114</td>\n",
       "      <td>0.528366</td>\n",
       "      <td>0.878721</td>\n",
       "      <td>0.366733</td>\n",
       "      <td>0.229788</td>\n",
       "      <td>...</td>\n",
       "      <td>0.273389</td>\n",
       "      <td>0.210311</td>\n",
       "      <td>0.472133</td>\n",
       "      <td>0.237987</td>\n",
       "      <td>0.570161</td>\n",
       "      <td>1</td>\n",
       "      <td>0</td>\n",
       "      <td>0</td>\n",
       "      <td>0</td>\n",
       "      <td>0</td>\n",
       "    </tr>\n",
       "    <tr>\n",
       "      <th>27935</th>\n",
       "      <td>0.0</td>\n",
       "      <td>0.464490</td>\n",
       "      <td>0.619808</td>\n",
       "      <td>0.334383</td>\n",
       "      <td>0.663172</td>\n",
       "      <td>0.063783</td>\n",
       "      <td>0.251825</td>\n",
       "      <td>0.871301</td>\n",
       "      <td>0.366891</td>\n",
       "      <td>0.305339</td>\n",
       "      <td>...</td>\n",
       "      <td>0.879584</td>\n",
       "      <td>0.888607</td>\n",
       "      <td>0.620819</td>\n",
       "      <td>0.913919</td>\n",
       "      <td>0.310195</td>\n",
       "      <td>0</td>\n",
       "      <td>1</td>\n",
       "      <td>0</td>\n",
       "      <td>0</td>\n",
       "      <td>0</td>\n",
       "    </tr>\n",
       "    <tr>\n",
       "      <th>73500</th>\n",
       "      <td>0.0</td>\n",
       "      <td>0.520840</td>\n",
       "      <td>0.886360</td>\n",
       "      <td>0.810726</td>\n",
       "      <td>0.856555</td>\n",
       "      <td>0.060927</td>\n",
       "      <td>0.590513</td>\n",
       "      <td>0.303616</td>\n",
       "      <td>0.440074</td>\n",
       "      <td>0.943424</td>\n",
       "      <td>...</td>\n",
       "      <td>0.912049</td>\n",
       "      <td>0.665107</td>\n",
       "      <td>0.888779</td>\n",
       "      <td>0.176777</td>\n",
       "      <td>0.051172</td>\n",
       "      <td>0</td>\n",
       "      <td>0</td>\n",
       "      <td>0</td>\n",
       "      <td>1</td>\n",
       "      <td>0</td>\n",
       "    </tr>\n",
       "    <tr>\n",
       "      <th>76906</th>\n",
       "      <td>0.0</td>\n",
       "      <td>0.532631</td>\n",
       "      <td>0.866466</td>\n",
       "      <td>0.152611</td>\n",
       "      <td>0.833157</td>\n",
       "      <td>0.467054</td>\n",
       "      <td>0.635834</td>\n",
       "      <td>0.695769</td>\n",
       "      <td>0.982495</td>\n",
       "      <td>0.944871</td>\n",
       "      <td>...</td>\n",
       "      <td>0.522595</td>\n",
       "      <td>0.101330</td>\n",
       "      <td>0.504928</td>\n",
       "      <td>0.857576</td>\n",
       "      <td>0.836988</td>\n",
       "      <td>0</td>\n",
       "      <td>0</td>\n",
       "      <td>1</td>\n",
       "      <td>0</td>\n",
       "      <td>0</td>\n",
       "    </tr>\n",
       "    <tr>\n",
       "      <th>70766</th>\n",
       "      <td>0.0</td>\n",
       "      <td>0.551150</td>\n",
       "      <td>0.188278</td>\n",
       "      <td>0.034484</td>\n",
       "      <td>0.296078</td>\n",
       "      <td>0.133453</td>\n",
       "      <td>0.113368</td>\n",
       "      <td>0.887960</td>\n",
       "      <td>0.096458</td>\n",
       "      <td>0.320336</td>\n",
       "      <td>...</td>\n",
       "      <td>0.334717</td>\n",
       "      <td>0.432087</td>\n",
       "      <td>0.178250</td>\n",
       "      <td>0.942212</td>\n",
       "      <td>0.014426</td>\n",
       "      <td>1</td>\n",
       "      <td>0</td>\n",
       "      <td>0</td>\n",
       "      <td>0</td>\n",
       "      <td>0</td>\n",
       "    </tr>\n",
       "    <tr>\n",
       "      <th>61800</th>\n",
       "      <td>0.0</td>\n",
       "      <td>0.649862</td>\n",
       "      <td>0.046742</td>\n",
       "      <td>0.394716</td>\n",
       "      <td>0.528988</td>\n",
       "      <td>0.252061</td>\n",
       "      <td>0.395092</td>\n",
       "      <td>0.522038</td>\n",
       "      <td>0.906690</td>\n",
       "      <td>0.853370</td>\n",
       "      <td>...</td>\n",
       "      <td>0.888699</td>\n",
       "      <td>0.064853</td>\n",
       "      <td>0.245532</td>\n",
       "      <td>0.810630</td>\n",
       "      <td>0.542452</td>\n",
       "      <td>0</td>\n",
       "      <td>1</td>\n",
       "      <td>0</td>\n",
       "      <td>0</td>\n",
       "      <td>0</td>\n",
       "    </tr>\n",
       "    <tr>\n",
       "      <th>90093</th>\n",
       "      <td>0.0</td>\n",
       "      <td>0.666543</td>\n",
       "      <td>0.849687</td>\n",
       "      <td>0.478593</td>\n",
       "      <td>0.398271</td>\n",
       "      <td>0.100168</td>\n",
       "      <td>0.713379</td>\n",
       "      <td>0.071701</td>\n",
       "      <td>0.559057</td>\n",
       "      <td>0.452550</td>\n",
       "      <td>...</td>\n",
       "      <td>0.959367</td>\n",
       "      <td>0.447894</td>\n",
       "      <td>0.788590</td>\n",
       "      <td>0.273139</td>\n",
       "      <td>0.401687</td>\n",
       "      <td>0</td>\n",
       "      <td>1</td>\n",
       "      <td>0</td>\n",
       "      <td>0</td>\n",
       "      <td>0</td>\n",
       "    </tr>\n",
       "    <tr>\n",
       "      <th>421</th>\n",
       "      <td>0.0</td>\n",
       "      <td>0.678686</td>\n",
       "      <td>0.181315</td>\n",
       "      <td>0.061882</td>\n",
       "      <td>0.889806</td>\n",
       "      <td>0.906861</td>\n",
       "      <td>0.838419</td>\n",
       "      <td>0.129109</td>\n",
       "      <td>0.919977</td>\n",
       "      <td>0.265456</td>\n",
       "      <td>...</td>\n",
       "      <td>0.398569</td>\n",
       "      <td>0.496453</td>\n",
       "      <td>0.350397</td>\n",
       "      <td>0.052682</td>\n",
       "      <td>0.789112</td>\n",
       "      <td>1</td>\n",
       "      <td>0</td>\n",
       "      <td>0</td>\n",
       "      <td>0</td>\n",
       "      <td>0</td>\n",
       "    </tr>\n",
       "    <tr>\n",
       "      <th>80158</th>\n",
       "      <td>0.0</td>\n",
       "      <td>0.722227</td>\n",
       "      <td>0.499587</td>\n",
       "      <td>0.554701</td>\n",
       "      <td>0.781985</td>\n",
       "      <td>0.946123</td>\n",
       "      <td>0.200107</td>\n",
       "      <td>0.265712</td>\n",
       "      <td>0.071580</td>\n",
       "      <td>0.008020</td>\n",
       "      <td>...</td>\n",
       "      <td>0.993111</td>\n",
       "      <td>0.575799</td>\n",
       "      <td>0.344528</td>\n",
       "      <td>0.246829</td>\n",
       "      <td>0.473736</td>\n",
       "      <td>0</td>\n",
       "      <td>0</td>\n",
       "      <td>1</td>\n",
       "      <td>0</td>\n",
       "      <td>0</td>\n",
       "    </tr>\n",
       "    <tr>\n",
       "      <th>59366</th>\n",
       "      <td>0.0</td>\n",
       "      <td>0.742348</td>\n",
       "      <td>0.977532</td>\n",
       "      <td>0.556163</td>\n",
       "      <td>0.771132</td>\n",
       "      <td>0.661256</td>\n",
       "      <td>0.076949</td>\n",
       "      <td>0.517668</td>\n",
       "      <td>0.475471</td>\n",
       "      <td>0.258707</td>\n",
       "      <td>...</td>\n",
       "      <td>0.885444</td>\n",
       "      <td>0.334130</td>\n",
       "      <td>0.584453</td>\n",
       "      <td>0.342092</td>\n",
       "      <td>0.021666</td>\n",
       "      <td>0</td>\n",
       "      <td>1</td>\n",
       "      <td>0</td>\n",
       "      <td>0</td>\n",
       "      <td>0</td>\n",
       "    </tr>\n",
       "    <tr>\n",
       "      <th>58670</th>\n",
       "      <td>0.0</td>\n",
       "      <td>0.790371</td>\n",
       "      <td>0.000597</td>\n",
       "      <td>0.380739</td>\n",
       "      <td>0.090867</td>\n",
       "      <td>0.600219</td>\n",
       "      <td>0.102122</td>\n",
       "      <td>0.127451</td>\n",
       "      <td>0.041317</td>\n",
       "      <td>0.279732</td>\n",
       "      <td>...</td>\n",
       "      <td>0.829660</td>\n",
       "      <td>0.990115</td>\n",
       "      <td>0.579828</td>\n",
       "      <td>0.571032</td>\n",
       "      <td>0.388229</td>\n",
       "      <td>0</td>\n",
       "      <td>0</td>\n",
       "      <td>1</td>\n",
       "      <td>0</td>\n",
       "      <td>0</td>\n",
       "    </tr>\n",
       "    <tr>\n",
       "      <th>93754</th>\n",
       "      <td>0.0</td>\n",
       "      <td>0.812256</td>\n",
       "      <td>0.550666</td>\n",
       "      <td>0.086680</td>\n",
       "      <td>0.466825</td>\n",
       "      <td>0.405364</td>\n",
       "      <td>0.537625</td>\n",
       "      <td>0.400163</td>\n",
       "      <td>0.036444</td>\n",
       "      <td>0.566749</td>\n",
       "      <td>...</td>\n",
       "      <td>0.718801</td>\n",
       "      <td>0.583465</td>\n",
       "      <td>0.648732</td>\n",
       "      <td>0.684847</td>\n",
       "      <td>0.163697</td>\n",
       "      <td>0</td>\n",
       "      <td>0</td>\n",
       "      <td>0</td>\n",
       "      <td>1</td>\n",
       "      <td>0</td>\n",
       "    </tr>\n",
       "    <tr>\n",
       "      <th>62188</th>\n",
       "      <td>0.0</td>\n",
       "      <td>0.880581</td>\n",
       "      <td>0.248476</td>\n",
       "      <td>0.970410</td>\n",
       "      <td>0.131380</td>\n",
       "      <td>0.750895</td>\n",
       "      <td>0.040118</td>\n",
       "      <td>0.381963</td>\n",
       "      <td>0.641942</td>\n",
       "      <td>0.626273</td>\n",
       "      <td>...</td>\n",
       "      <td>0.422745</td>\n",
       "      <td>0.662909</td>\n",
       "      <td>0.680873</td>\n",
       "      <td>0.295227</td>\n",
       "      <td>0.177491</td>\n",
       "      <td>0</td>\n",
       "      <td>0</td>\n",
       "      <td>0</td>\n",
       "      <td>0</td>\n",
       "      <td>1</td>\n",
       "    </tr>\n",
       "    <tr>\n",
       "      <th>98405</th>\n",
       "      <td>0.0</td>\n",
       "      <td>0.946056</td>\n",
       "      <td>0.949659</td>\n",
       "      <td>0.256602</td>\n",
       "      <td>0.314085</td>\n",
       "      <td>0.639122</td>\n",
       "      <td>0.603658</td>\n",
       "      <td>0.847361</td>\n",
       "      <td>0.502369</td>\n",
       "      <td>0.835166</td>\n",
       "      <td>...</td>\n",
       "      <td>0.604105</td>\n",
       "      <td>0.745097</td>\n",
       "      <td>0.778018</td>\n",
       "      <td>0.716625</td>\n",
       "      <td>0.248890</td>\n",
       "      <td>0</td>\n",
       "      <td>1</td>\n",
       "      <td>0</td>\n",
       "      <td>0</td>\n",
       "      <td>0</td>\n",
       "    </tr>\n",
       "    <tr>\n",
       "      <th>19882</th>\n",
       "      <td>0.0</td>\n",
       "      <td>0.964190</td>\n",
       "      <td>0.943930</td>\n",
       "      <td>0.347445</td>\n",
       "      <td>0.871342</td>\n",
       "      <td>0.803757</td>\n",
       "      <td>0.959153</td>\n",
       "      <td>0.508762</td>\n",
       "      <td>0.799001</td>\n",
       "      <td>0.080219</td>\n",
       "      <td>...</td>\n",
       "      <td>0.751225</td>\n",
       "      <td>0.631726</td>\n",
       "      <td>0.758138</td>\n",
       "      <td>0.281086</td>\n",
       "      <td>0.994813</td>\n",
       "      <td>0</td>\n",
       "      <td>0</td>\n",
       "      <td>0</td>\n",
       "      <td>1</td>\n",
       "      <td>0</td>\n",
       "    </tr>\n",
       "  </tbody>\n",
       "</table>\n",
       "<p>21 rows × 36 columns</p>\n",
       "</div>"
      ],
      "text/plain": [
       "       customer_id  feature_1  feature_2  feature_3  feature_4  feature_5  \\\n",
       "51889          0.0   0.063120   0.749423   0.537111   0.850613   0.105087   \n",
       "46994          0.0   0.159521   0.235517   0.167395   0.112889   0.341940   \n",
       "14978          0.0   0.309795   0.411243   0.670433   0.976152   0.574918   \n",
       "64830          0.0   0.329057   0.803545   0.331318   0.674232   0.669591   \n",
       "37829          0.0   0.343327   0.657480   0.486471   0.081988   0.487649   \n",
       "27048          0.0   0.379392   0.167830   0.775259   0.625062   0.468299   \n",
       "54156          0.0   0.396299   0.839793   0.323814   0.358130   0.895114   \n",
       "27935          0.0   0.464490   0.619808   0.334383   0.663172   0.063783   \n",
       "73500          0.0   0.520840   0.886360   0.810726   0.856555   0.060927   \n",
       "76906          0.0   0.532631   0.866466   0.152611   0.833157   0.467054   \n",
       "70766          0.0   0.551150   0.188278   0.034484   0.296078   0.133453   \n",
       "61800          0.0   0.649862   0.046742   0.394716   0.528988   0.252061   \n",
       "90093          0.0   0.666543   0.849687   0.478593   0.398271   0.100168   \n",
       "421            0.0   0.678686   0.181315   0.061882   0.889806   0.906861   \n",
       "80158          0.0   0.722227   0.499587   0.554701   0.781985   0.946123   \n",
       "59366          0.0   0.742348   0.977532   0.556163   0.771132   0.661256   \n",
       "58670          0.0   0.790371   0.000597   0.380739   0.090867   0.600219   \n",
       "93754          0.0   0.812256   0.550666   0.086680   0.466825   0.405364   \n",
       "62188          0.0   0.880581   0.248476   0.970410   0.131380   0.750895   \n",
       "98405          0.0   0.946056   0.949659   0.256602   0.314085   0.639122   \n",
       "19882          0.0   0.964190   0.943930   0.347445   0.871342   0.803757   \n",
       "\n",
       "       feature_6  feature_7  feature_8  feature_9    ...     feature_26  \\\n",
       "51889   0.085274   0.294656   0.709433   0.686156    ...       0.937149   \n",
       "46994   0.972764   0.204738   0.146144   0.187257    ...       0.736712   \n",
       "14978   0.001452   0.610816   0.675889   0.269606    ...       0.163005   \n",
       "64830   0.079732   0.211467   0.731866   0.353566    ...       0.964159   \n",
       "37829   0.432609   0.410132   0.621899   0.302678    ...       0.393270   \n",
       "27048   0.978418   0.463808   0.144157   0.753293    ...       0.052774   \n",
       "54156   0.528366   0.878721   0.366733   0.229788    ...       0.273389   \n",
       "27935   0.251825   0.871301   0.366891   0.305339    ...       0.879584   \n",
       "73500   0.590513   0.303616   0.440074   0.943424    ...       0.912049   \n",
       "76906   0.635834   0.695769   0.982495   0.944871    ...       0.522595   \n",
       "70766   0.113368   0.887960   0.096458   0.320336    ...       0.334717   \n",
       "61800   0.395092   0.522038   0.906690   0.853370    ...       0.888699   \n",
       "90093   0.713379   0.071701   0.559057   0.452550    ...       0.959367   \n",
       "421     0.838419   0.129109   0.919977   0.265456    ...       0.398569   \n",
       "80158   0.200107   0.265712   0.071580   0.008020    ...       0.993111   \n",
       "59366   0.076949   0.517668   0.475471   0.258707    ...       0.885444   \n",
       "58670   0.102122   0.127451   0.041317   0.279732    ...       0.829660   \n",
       "93754   0.537625   0.400163   0.036444   0.566749    ...       0.718801   \n",
       "62188   0.040118   0.381963   0.641942   0.626273    ...       0.422745   \n",
       "98405   0.603658   0.847361   0.502369   0.835166    ...       0.604105   \n",
       "19882   0.959153   0.508762   0.799001   0.080219    ...       0.751225   \n",
       "\n",
       "       feature_27  feature_28  feature_29  feature_30  target_0  target_1  \\\n",
       "51889    0.701153    0.063699    0.895404    0.536807         0         0   \n",
       "46994    0.730576    0.202271    0.721882    0.327341         0         0   \n",
       "14978    0.746287    0.674242    0.643898    0.119910         0         0   \n",
       "64830    0.697681    0.428046    0.217732    0.800923         1         0   \n",
       "37829    0.011887    0.235069    0.731576    0.448925         0         1   \n",
       "27048    0.678438    0.157363    0.341157    0.698192         0         0   \n",
       "54156    0.210311    0.472133    0.237987    0.570161         1         0   \n",
       "27935    0.888607    0.620819    0.913919    0.310195         0         1   \n",
       "73500    0.665107    0.888779    0.176777    0.051172         0         0   \n",
       "76906    0.101330    0.504928    0.857576    0.836988         0         0   \n",
       "70766    0.432087    0.178250    0.942212    0.014426         1         0   \n",
       "61800    0.064853    0.245532    0.810630    0.542452         0         1   \n",
       "90093    0.447894    0.788590    0.273139    0.401687         0         1   \n",
       "421      0.496453    0.350397    0.052682    0.789112         1         0   \n",
       "80158    0.575799    0.344528    0.246829    0.473736         0         0   \n",
       "59366    0.334130    0.584453    0.342092    0.021666         0         1   \n",
       "58670    0.990115    0.579828    0.571032    0.388229         0         0   \n",
       "93754    0.583465    0.648732    0.684847    0.163697         0         0   \n",
       "62188    0.662909    0.680873    0.295227    0.177491         0         0   \n",
       "98405    0.745097    0.778018    0.716625    0.248890         0         1   \n",
       "19882    0.631726    0.758138    0.281086    0.994813         0         0   \n",
       "\n",
       "       target_2  target_3  target_4  \n",
       "51889         0         1         0  \n",
       "46994         0         1         0  \n",
       "14978         0         0         1  \n",
       "64830         0         0         0  \n",
       "37829         0         0         0  \n",
       "27048         1         0         0  \n",
       "54156         0         0         0  \n",
       "27935         0         0         0  \n",
       "73500         0         1         0  \n",
       "76906         1         0         0  \n",
       "70766         0         0         0  \n",
       "61800         0         0         0  \n",
       "90093         0         0         0  \n",
       "421           0         0         0  \n",
       "80158         1         0         0  \n",
       "59366         0         0         0  \n",
       "58670         1         0         0  \n",
       "93754         0         1         0  \n",
       "62188         0         0         1  \n",
       "98405         0         0         0  \n",
       "19882         0         1         0  \n",
       "\n",
       "[21 rows x 36 columns]"
      ]
     },
     "execution_count": 38,
     "metadata": {},
     "output_type": "execute_result"
    }
   ],
   "source": [
    "data_0"
   ]
  },
  {
   "cell_type": "code",
   "execution_count": 39,
   "metadata": {},
   "outputs": [
    {
     "data": {
      "text/plain": [
       "<matplotlib.image.AxesImage at 0x1d64c6f8e10>"
      ]
     },
     "execution_count": 39,
     "metadata": {},
     "output_type": "execute_result"
    },
    {
     "data": {
      "image/png": "[encoded data removed]",
      "text/plain": [
       "<Figure size 493.714x288 with 1 Axes>"
      ]
     },
     "metadata": {},
     "output_type": "display_data"
    }
   ],
   "source": [
    "plt.matshow(data_0)\n",
    "_= plt.xlabel('Features',fontsize = 12)\n",
    "_ = plt.ylabel('Series Behaviors',fontsize = 12)\n",
    "#### the right five columns represent which product this customer already bought, we select the latest product as training label"
   ]
  },
  {
   "cell_type": "code",
   "execution_count": 40,
   "metadata": {},
   "outputs": [
    {
     "data": {
      "text/html": [
       "<div>\n",
       "<style scoped>\n",
       "    .dataframe tbody tr th:only-of-type {\n",
       "        vertical-align: middle;\n",
       "    }\n",
       "\n",
       "    .dataframe tbody tr th {\n",
       "        vertical-align: top;\n",
       "    }\n",
       "\n",
       "    .dataframe thead th {\n",
       "        text-align: right;\n",
       "    }\n",
       "</style>\n",
       "<table border=\"1\" class=\"dataframe\">\n",
       "  <thead>\n",
       "    <tr style=\"text-align: right;\">\n",
       "      <th></th>\n",
       "      <th>customer_id</th>\n",
       "      <th>feature_1</th>\n",
       "      <th>feature_2</th>\n",
       "      <th>feature_3</th>\n",
       "      <th>feature_4</th>\n",
       "      <th>feature_5</th>\n",
       "      <th>feature_6</th>\n",
       "      <th>feature_7</th>\n",
       "      <th>feature_8</th>\n",
       "      <th>feature_9</th>\n",
       "      <th>...</th>\n",
       "      <th>feature_26</th>\n",
       "      <th>feature_27</th>\n",
       "      <th>feature_28</th>\n",
       "      <th>feature_29</th>\n",
       "      <th>feature_30</th>\n",
       "      <th>target_0</th>\n",
       "      <th>target_1</th>\n",
       "      <th>target_2</th>\n",
       "      <th>target_3</th>\n",
       "      <th>target_4</th>\n",
       "    </tr>\n",
       "  </thead>\n",
       "  <tbody>\n",
       "    <tr>\n",
       "      <th>count</th>\n",
       "      <td>100000.000000</td>\n",
       "      <td>100000.000000</td>\n",
       "      <td>100000.000000</td>\n",
       "      <td>100000.000000</td>\n",
       "      <td>1.000000e+05</td>\n",
       "      <td>100000.000000</td>\n",
       "      <td>100000.000000</td>\n",
       "      <td>1.000000e+05</td>\n",
       "      <td>100000.000000</td>\n",
       "      <td>100000.000000</td>\n",
       "      <td>...</td>\n",
       "      <td>100000.000000</td>\n",
       "      <td>100000.000000</td>\n",
       "      <td>1.000000e+05</td>\n",
       "      <td>100000.000000</td>\n",
       "      <td>100000.000000</td>\n",
       "      <td>100000.000000</td>\n",
       "      <td>100000.000000</td>\n",
       "      <td>100000.000000</td>\n",
       "      <td>100000.000000</td>\n",
       "      <td>100000.000000</td>\n",
       "    </tr>\n",
       "    <tr>\n",
       "      <th>mean</th>\n",
       "      <td>2502.796160</td>\n",
       "      <td>0.499925</td>\n",
       "      <td>0.499552</td>\n",
       "      <td>0.500318</td>\n",
       "      <td>4.995526e-01</td>\n",
       "      <td>0.499654</td>\n",
       "      <td>0.501390</td>\n",
       "      <td>5.024351e-01</td>\n",
       "      <td>0.498278</td>\n",
       "      <td>0.500456</td>\n",
       "      <td>...</td>\n",
       "      <td>0.500486</td>\n",
       "      <td>0.499140</td>\n",
       "      <td>5.006047e-01</td>\n",
       "      <td>0.498753</td>\n",
       "      <td>0.499926</td>\n",
       "      <td>0.197610</td>\n",
       "      <td>0.199790</td>\n",
       "      <td>0.199780</td>\n",
       "      <td>0.201420</td>\n",
       "      <td>0.201400</td>\n",
       "    </tr>\n",
       "    <tr>\n",
       "      <th>std</th>\n",
       "      <td>1444.493331</td>\n",
       "      <td>0.288981</td>\n",
       "      <td>0.289076</td>\n",
       "      <td>0.288272</td>\n",
       "      <td>2.887521e-01</td>\n",
       "      <td>0.288970</td>\n",
       "      <td>0.289265</td>\n",
       "      <td>2.888097e-01</td>\n",
       "      <td>0.288952</td>\n",
       "      <td>0.288520</td>\n",
       "      <td>...</td>\n",
       "      <td>0.288817</td>\n",
       "      <td>0.288924</td>\n",
       "      <td>2.888658e-01</td>\n",
       "      <td>0.287994</td>\n",
       "      <td>0.289395</td>\n",
       "      <td>0.398198</td>\n",
       "      <td>0.399844</td>\n",
       "      <td>0.399837</td>\n",
       "      <td>0.401063</td>\n",
       "      <td>0.401048</td>\n",
       "    </tr>\n",
       "    <tr>\n",
       "      <th>min</th>\n",
       "      <td>0.000000</td>\n",
       "      <td>0.000020</td>\n",
       "      <td>0.000019</td>\n",
       "      <td>0.000028</td>\n",
       "      <td>8.590804e-07</td>\n",
       "      <td>0.000003</td>\n",
       "      <td>0.000021</td>\n",
       "      <td>8.615478e-07</td>\n",
       "      <td>0.000002</td>\n",
       "      <td>0.000017</td>\n",
       "      <td>...</td>\n",
       "      <td>0.000008</td>\n",
       "      <td>0.000002</td>\n",
       "      <td>8.719095e-07</td>\n",
       "      <td>0.000006</td>\n",
       "      <td>0.000010</td>\n",
       "      <td>0.000000</td>\n",
       "      <td>0.000000</td>\n",
       "      <td>0.000000</td>\n",
       "      <td>0.000000</td>\n",
       "      <td>0.000000</td>\n",
       "    </tr>\n",
       "    <tr>\n",
       "      <th>25%</th>\n",
       "      <td>1250.000000</td>\n",
       "      <td>0.249672</td>\n",
       "      <td>0.248736</td>\n",
       "      <td>0.250750</td>\n",
       "      <td>2.495161e-01</td>\n",
       "      <td>0.248942</td>\n",
       "      <td>0.251044</td>\n",
       "      <td>2.528019e-01</td>\n",
       "      <td>0.246694</td>\n",
       "      <td>0.251271</td>\n",
       "      <td>...</td>\n",
       "      <td>0.250103</td>\n",
       "      <td>0.249622</td>\n",
       "      <td>2.508414e-01</td>\n",
       "      <td>0.251253</td>\n",
       "      <td>0.249556</td>\n",
       "      <td>0.000000</td>\n",
       "      <td>0.000000</td>\n",
       "      <td>0.000000</td>\n",
       "      <td>0.000000</td>\n",
       "      <td>0.000000</td>\n",
       "    </tr>\n",
       "    <tr>\n",
       "      <th>50%</th>\n",
       "      <td>2500.000000</td>\n",
       "      <td>0.500836</td>\n",
       "      <td>0.498946</td>\n",
       "      <td>0.501670</td>\n",
       "      <td>4.989956e-01</td>\n",
       "      <td>0.500075</td>\n",
       "      <td>0.502743</td>\n",
       "      <td>5.035209e-01</td>\n",
       "      <td>0.497162</td>\n",
       "      <td>0.500716</td>\n",
       "      <td>...</td>\n",
       "      <td>0.500658</td>\n",
       "      <td>0.498206</td>\n",
       "      <td>5.003531e-01</td>\n",
       "      <td>0.496527</td>\n",
       "      <td>0.500430</td>\n",
       "      <td>0.000000</td>\n",
       "      <td>0.000000</td>\n",
       "      <td>0.000000</td>\n",
       "      <td>0.000000</td>\n",
       "      <td>0.000000</td>\n",
       "    </tr>\n",
       "    <tr>\n",
       "      <th>75%</th>\n",
       "      <td>3753.000000</td>\n",
       "      <td>0.749951</td>\n",
       "      <td>0.750640</td>\n",
       "      <td>0.749293</td>\n",
       "      <td>7.497122e-01</td>\n",
       "      <td>0.748929</td>\n",
       "      <td>0.753093</td>\n",
       "      <td>7.536245e-01</td>\n",
       "      <td>0.748958</td>\n",
       "      <td>0.751044</td>\n",
       "      <td>...</td>\n",
       "      <td>0.751245</td>\n",
       "      <td>0.748836</td>\n",
       "      <td>7.518013e-01</td>\n",
       "      <td>0.746775</td>\n",
       "      <td>0.751228</td>\n",
       "      <td>0.000000</td>\n",
       "      <td>0.000000</td>\n",
       "      <td>0.000000</td>\n",
       "      <td>0.000000</td>\n",
       "      <td>0.000000</td>\n",
       "    </tr>\n",
       "    <tr>\n",
       "      <th>90%</th>\n",
       "      <td>4511.000000</td>\n",
       "      <td>0.900596</td>\n",
       "      <td>0.901285</td>\n",
       "      <td>0.899008</td>\n",
       "      <td>9.000227e-01</td>\n",
       "      <td>0.900218</td>\n",
       "      <td>0.902296</td>\n",
       "      <td>9.013793e-01</td>\n",
       "      <td>0.898643</td>\n",
       "      <td>0.899716</td>\n",
       "      <td>...</td>\n",
       "      <td>0.899904</td>\n",
       "      <td>0.900714</td>\n",
       "      <td>9.002322e-01</td>\n",
       "      <td>0.899789</td>\n",
       "      <td>0.900215</td>\n",
       "      <td>1.000000</td>\n",
       "      <td>1.000000</td>\n",
       "      <td>1.000000</td>\n",
       "      <td>1.000000</td>\n",
       "      <td>1.000000</td>\n",
       "    </tr>\n",
       "    <tr>\n",
       "      <th>max</th>\n",
       "      <td>4999.000000</td>\n",
       "      <td>0.999999</td>\n",
       "      <td>0.999994</td>\n",
       "      <td>0.999997</td>\n",
       "      <td>9.999939e-01</td>\n",
       "      <td>0.999995</td>\n",
       "      <td>0.999974</td>\n",
       "      <td>9.999988e-01</td>\n",
       "      <td>1.000000</td>\n",
       "      <td>0.999994</td>\n",
       "      <td>...</td>\n",
       "      <td>0.999999</td>\n",
       "      <td>0.999996</td>\n",
       "      <td>9.999886e-01</td>\n",
       "      <td>0.999999</td>\n",
       "      <td>0.999975</td>\n",
       "      <td>1.000000</td>\n",
       "      <td>1.000000</td>\n",
       "      <td>1.000000</td>\n",
       "      <td>1.000000</td>\n",
       "      <td>1.000000</td>\n",
       "    </tr>\n",
       "  </tbody>\n",
       "</table>\n",
       "<p>9 rows × 36 columns</p>\n",
       "</div>"
      ],
      "text/plain": [
       "         customer_id      feature_1      feature_2      feature_3  \\\n",
       "count  100000.000000  100000.000000  100000.000000  100000.000000   \n",
       "mean     2502.796160       0.499925       0.499552       0.500318   \n",
       "std      1444.493331       0.288981       0.289076       0.288272   \n",
       "min         0.000000       0.000020       0.000019       0.000028   \n",
       "25%      1250.000000       0.249672       0.248736       0.250750   \n",
       "50%      2500.000000       0.500836       0.498946       0.501670   \n",
       "75%      3753.000000       0.749951       0.750640       0.749293   \n",
       "90%      4511.000000       0.900596       0.901285       0.899008   \n",
       "max      4999.000000       0.999999       0.999994       0.999997   \n",
       "\n",
       "          feature_4      feature_5      feature_6     feature_7  \\\n",
       "count  1.000000e+05  100000.000000  100000.000000  1.000000e+05   \n",
       "mean   4.995526e-01       0.499654       0.501390  5.024351e-01   \n",
       "std    2.887521e-01       0.288970       0.289265  2.888097e-01   \n",
       "min    8.590804e-07       0.000003       0.000021  8.615478e-07   \n",
       "25%    2.495161e-01       0.248942       0.251044  2.528019e-01   \n",
       "50%    4.989956e-01       0.500075       0.502743  5.035209e-01   \n",
       "75%    7.497122e-01       0.748929       0.753093  7.536245e-01   \n",
       "90%    9.000227e-01       0.900218       0.902296  9.013793e-01   \n",
       "max    9.999939e-01       0.999995       0.999974  9.999988e-01   \n",
       "\n",
       "           feature_8      feature_9      ...           feature_26  \\\n",
       "count  100000.000000  100000.000000      ...        100000.000000   \n",
       "mean        0.498278       0.500456      ...             0.500486   \n",
       "std         0.288952       0.288520      ...             0.288817   \n",
       "min         0.000002       0.000017      ...             0.000008   \n",
       "25%         0.246694       0.251271      ...             0.250103   \n",
       "50%         0.497162       0.500716      ...             0.500658   \n",
       "75%         0.748958       0.751044      ...             0.751245   \n",
       "90%         0.898643       0.899716      ...             0.899904   \n",
       "max         1.000000       0.999994      ...             0.999999   \n",
       "\n",
       "          feature_27    feature_28     feature_29     feature_30  \\\n",
       "count  100000.000000  1.000000e+05  100000.000000  100000.000000   \n",
       "mean        0.499140  5.006047e-01       0.498753       0.499926   \n",
       "std         0.288924  2.888658e-01       0.287994       0.289395   \n",
       "min         0.000002  8.719095e-07       0.000006       0.000010   \n",
       "25%         0.249622  2.508414e-01       0.251253       0.249556   \n",
       "50%         0.498206  5.003531e-01       0.496527       0.500430   \n",
       "75%         0.748836  7.518013e-01       0.746775       0.751228   \n",
       "90%         0.900714  9.002322e-01       0.899789       0.900215   \n",
       "max         0.999996  9.999886e-01       0.999999       0.999975   \n",
       "\n",
       "            target_0       target_1       target_2       target_3  \\\n",
       "count  100000.000000  100000.000000  100000.000000  100000.000000   \n",
       "mean        0.197610       0.199790       0.199780       0.201420   \n",
       "std         0.398198       0.399844       0.399837       0.401063   \n",
       "min         0.000000       0.000000       0.000000       0.000000   \n",
       "25%         0.000000       0.000000       0.000000       0.000000   \n",
       "50%         0.000000       0.000000       0.000000       0.000000   \n",
       "75%         0.000000       0.000000       0.000000       0.000000   \n",
       "90%         1.000000       1.000000       1.000000       1.000000   \n",
       "max         1.000000       1.000000       1.000000       1.000000   \n",
       "\n",
       "            target_4  \n",
       "count  100000.000000  \n",
       "mean        0.201400  \n",
       "std         0.401048  \n",
       "min         0.000000  \n",
       "25%         0.000000  \n",
       "50%         0.000000  \n",
       "75%         0.000000  \n",
       "90%         1.000000  \n",
       "max         1.000000  \n",
       "\n",
       "[9 rows x 36 columns]"
      ]
     },
     "execution_count": 40,
     "metadata": {},
     "output_type": "execute_result"
    }
   ],
   "source": [
    "data.describe(percentiles=[0.25,0.5,0.75,0.9])"
   ]
  },
  {
   "cell_type": "code",
   "execution_count": 41,
   "metadata": {},
   "outputs": [
    {
     "data": {
      "text/plain": [
       "count    5000.000000\n",
       "mean       20.000000\n",
       "std         4.498449\n",
       "min         7.000000\n",
       "25%        17.000000\n",
       "50%        20.000000\n",
       "75%        23.000000\n",
       "90%        26.000000\n",
       "max        41.000000\n",
       "dtype: float64"
      ]
     },
     "execution_count": 41,
     "metadata": {},
     "output_type": "execute_result"
    }
   ],
   "source": [
    "data.groupby('customer_id').size().describe(percentiles=[0.25,0.5,0.75,0.9])"
   ]
  },
  {
   "cell_type": "markdown",
   "metadata": {},
   "source": [
    "##### setting of max length of series of customer behavior for model\n",
    "-  padding 0 if the length of sequence is less than 26\n",
    "- cutting the latest 26 sequence if the length is more than 26"
   ]
  },
  {
   "cell_type": "code",
   "execution_count": 42,
   "metadata": {},
   "outputs": [],
   "source": [
    "max_lenghth = 26"
   ]
  },
  {
   "cell_type": "markdown",
   "metadata": {},
   "source": [
    "### 5.Data preparation\n",
    "- Select The Latest Product As Trainig Label\n",
    "- Split Data Into Features Data and Label"
   ]
  },
  {
   "cell_type": "markdown",
   "metadata": {},
   "source": [
    "#### Label extraction:"
   ]
  },
  {
   "cell_type": "code",
   "execution_count": 43,
   "metadata": {},
   "outputs": [],
   "source": [
    "the_last_row = data.groupby('customer_id').tail(1)[target_oneHot.columns]"
   ]
  },
  {
   "cell_type": "code",
   "execution_count": 44,
   "metadata": {},
   "outputs": [],
   "source": [
    "Y_matrix = the_last_row.values"
   ]
  },
  {
   "cell_type": "code",
   "execution_count": 45,
   "metadata": {},
   "outputs": [
    {
     "data": {
      "text/plain": [
       "(5000, 5)"
      ]
     },
     "execution_count": 45,
     "metadata": {},
     "output_type": "execute_result"
    }
   ],
   "source": [
    "Y_matrix.shape"
   ]
  },
  {
   "cell_type": "markdown",
   "metadata": {},
   "source": [
    "#### Features extraction"
   ]
  },
  {
   "cell_type": "code",
   "execution_count": 46,
   "metadata": {},
   "outputs": [],
   "source": [
    "features_data = data[~data.index.isin(the_last_row.index)]"
   ]
  },
  {
   "cell_type": "code",
   "execution_count": 47,
   "metadata": {},
   "outputs": [],
   "source": [
    "extract_columns = list(data)"
   ]
  },
  {
   "cell_type": "code",
   "execution_count": 48,
   "metadata": {},
   "outputs": [],
   "source": [
    "extract_columns.remove(\"customer_id\")"
   ]
  },
  {
   "cell_type": "markdown",
   "metadata": {},
   "source": [
    "##### create the behavior sequence by each customers"
   ]
  },
  {
   "cell_type": "code",
   "execution_count": 49,
   "metadata": {},
   "outputs": [],
   "source": [
    "features_data = features_data.groupby(by='customer_id').apply(lambda x:x[extract_columns].values).reset_index(name='sequence_matrix')"
   ]
  },
  {
   "cell_type": "code",
   "execution_count": 50,
   "metadata": {},
   "outputs": [
    {
     "data": {
      "text/html": [
       "<div>\n",
       "<style scoped>\n",
       "    .dataframe tbody tr th:only-of-type {\n",
       "        vertical-align: middle;\n",
       "    }\n",
       "\n",
       "    .dataframe tbody tr th {\n",
       "        vertical-align: top;\n",
       "    }\n",
       "\n",
       "    .dataframe thead th {\n",
       "        text-align: right;\n",
       "    }\n",
       "</style>\n",
       "<table border=\"1\" class=\"dataframe\">\n",
       "  <thead>\n",
       "    <tr style=\"text-align: right;\">\n",
       "      <th></th>\n",
       "      <th>customer_id</th>\n",
       "      <th>sequence_matrix</th>\n",
       "    </tr>\n",
       "  </thead>\n",
       "  <tbody>\n",
       "    <tr>\n",
       "      <th>0</th>\n",
       "      <td>0.0</td>\n",
       "      <td>[[0.06311956102820959, 0.7494234517440929, 0.5...</td>\n",
       "    </tr>\n",
       "    <tr>\n",
       "      <th>1</th>\n",
       "      <td>1.0</td>\n",
       "      <td>[[0.03595338771461243, 0.9791071779412864, 0.2...</td>\n",
       "    </tr>\n",
       "    <tr>\n",
       "      <th>2</th>\n",
       "      <td>2.0</td>\n",
       "      <td>[[0.006246678652088944, 0.614849281972803, 0.3...</td>\n",
       "    </tr>\n",
       "    <tr>\n",
       "      <th>3</th>\n",
       "      <td>3.0</td>\n",
       "      <td>[[0.002693082188991447, 0.1365331359354388, 0....</td>\n",
       "    </tr>\n",
       "    <tr>\n",
       "      <th>4</th>\n",
       "      <td>4.0</td>\n",
       "      <td>[[0.07657901600309203, 0.6788594903903369, 0.8...</td>\n",
       "    </tr>\n",
       "  </tbody>\n",
       "</table>\n",
       "</div>"
      ],
      "text/plain": [
       "   customer_id                                    sequence_matrix\n",
       "0          0.0  [[0.06311956102820959, 0.7494234517440929, 0.5...\n",
       "1          1.0  [[0.03595338771461243, 0.9791071779412864, 0.2...\n",
       "2          2.0  [[0.006246678652088944, 0.614849281972803, 0.3...\n",
       "3          3.0  [[0.002693082188991447, 0.1365331359354388, 0....\n",
       "4          4.0  [[0.07657901600309203, 0.6788594903903369, 0.8..."
      ]
     },
     "execution_count": 50,
     "metadata": {},
     "output_type": "execute_result"
    }
   ],
   "source": [
    "features_data.head()"
   ]
  },
  {
   "cell_type": "markdown",
   "metadata": {},
   "source": [
    "##### setting the max length of sequence of behaviors by each users"
   ]
  },
  {
   "cell_type": "code",
   "execution_count": 51,
   "metadata": {},
   "outputs": [],
   "source": [
    "matrix_list = []\n",
    "for matrix in features_data['sequence_matrix']:\n",
    "    sequence_length = matrix.shape[0]\n",
    "    feature_length = matrix.shape[1]\n",
    "    matrix = matrix[::-1]\n",
    "    \n",
    "    if matrix.shape[0]>max_lenghth:\n",
    "        matrix = matrix[sequence_length-max_lenghth:,:]\n",
    "#         print(matrix.shape)\n",
    "    elif matrix.shape[0]<max_lenghth:\n",
    "        zero_matrix = np.zeros(shape =(max_lenghth-sequence_length,feature_length))\n",
    "        matrix= np.concatenate((matrix,zero_matrix))\n",
    "    \n",
    "    matrix_list.append(matrix[::-1])"
   ]
  },
  {
   "cell_type": "code",
   "execution_count": 52,
   "metadata": {},
   "outputs": [
    {
     "data": {
      "text/plain": [
       "(26, 35)"
      ]
     },
     "execution_count": 52,
     "metadata": {},
     "output_type": "execute_result"
    }
   ],
   "source": [
    "matrix.shape"
   ]
  },
  {
   "cell_type": "code",
   "execution_count": 53,
   "metadata": {},
   "outputs": [],
   "source": [
    "##### padding 0 if the length of sequence is less than 26"
   ]
  },
  {
   "cell_type": "code",
   "execution_count": 54,
   "metadata": {},
   "outputs": [
    {
     "data": {
      "text/plain": [
       "<matplotlib.image.AxesImage at 0x1d64d9346d8>"
      ]
     },
     "execution_count": 54,
     "metadata": {},
     "output_type": "execute_result"
    },
    {
     "data": {
      "image/png": "[encoded data removed]",
      "text/plain": [
       "<Figure size 387.692x288 with 1 Axes>"
      ]
     },
     "metadata": {},
     "output_type": "display_data"
    }
   ],
   "source": [
    "plt.matshow(matrix)\n",
    "_= plt.xlabel('Features + ',fontsize = 12)\n",
    "_ = plt.ylabel('Fixed Length: 26:Series Behaviors [From Latest to -> Oldest]',fontsize = 12)"
   ]
  },
  {
   "cell_type": "markdown",
   "metadata": {},
   "source": [
    "###### we shift the historical infomation  from upper to bottom beacause the latest information as the input data of last stage for model can be strongly remembered by model and redudance of zeros as input of initial stage"
   ]
  },
  {
   "cell_type": "code",
   "execution_count": 55,
   "metadata": {},
   "outputs": [
    {
     "data": {
      "text/plain": [
       "<matplotlib.image.AxesImage at 0x1d64d97c898>"
      ]
     },
     "execution_count": 55,
     "metadata": {},
     "output_type": "execute_result"
    },
    {
     "data": {
      "image/png": "[encoded data removed]",
      "text/plain": [
       "<Figure size 387.692x288 with 1 Axes>"
      ]
     },
     "metadata": {},
     "output_type": "display_data"
    }
   ],
   "source": [
    "plt.matshow(matrix_list[1])\n",
    "_= plt.xlabel('Features + ',fontsize = 12)\n",
    "_ = plt.ylabel('Fixed Length: 26:Series Behaviors [From Latest to -> Oldest]',fontsize = 12)"
   ]
  },
  {
   "cell_type": "code",
   "execution_count": 56,
   "metadata": {},
   "outputs": [],
   "source": [
    "X_matrix = np.array([np.array(matrix) for matrix in matrix_list])"
   ]
  },
  {
   "cell_type": "code",
   "execution_count": 57,
   "metadata": {},
   "outputs": [
    {
     "data": {
      "text/plain": [
       "(5000, 26, 35)"
      ]
     },
     "execution_count": 57,
     "metadata": {},
     "output_type": "execute_result"
    }
   ],
   "source": [
    "X_matrix.shape"
   ]
  },
  {
   "cell_type": "code",
   "execution_count": 58,
   "metadata": {},
   "outputs": [
    {
     "data": {
      "text/plain": [
       "(5000, 5)"
      ]
     },
     "execution_count": 58,
     "metadata": {},
     "output_type": "execute_result"
    }
   ],
   "source": [
    "Y_matrix.shape"
   ]
  },
  {
   "cell_type": "markdown",
   "metadata": {},
   "source": [
    "### 6. create batch training data"
   ]
  },
  {
   "cell_type": "code",
   "execution_count": 59,
   "metadata": {},
   "outputs": [],
   "source": [
    "batch_size = 64"
   ]
  },
  {
   "cell_type": "code",
   "execution_count": 60,
   "metadata": {},
   "outputs": [],
   "source": [
    "def get_batch(X,Y,batch_size):\n",
    "    batch_sum = 0\n",
    "    data_size = X.shape[0]\n",
    "    loop_size = data_size//batch_size\n",
    "    for _ in range(loop_size):\n",
    "        x = X[batch_sum:batch_sum+batch_size]\n",
    "        y = Y[batch_sum:batch_sum+batch_size]\n",
    "        \n",
    "        batch_sum+=batch_size\n",
    "        \n",
    "        yield x,y"
   ]
  },
  {
   "cell_type": "markdown",
   "metadata": {},
   "source": [
    "### 7.Model Construction"
   ]
  },
  {
   "cell_type": "markdown",
   "metadata": {},
   "source": [
    "### RNN: LSTM"
   ]
  },
  {
   "cell_type": "code",
   "execution_count": 61,
   "metadata": {},
   "outputs": [],
   "source": [
    "input_ph = tf.placeholder(shape=[None,max_lenghth,feature_length], dtype=tf.float32, name='input') ### batch_size, length, features\n",
    "target_ph = tf.placeholder(shape=[None,target_num], dtype=tf.float32, name='target')"
   ]
  },
  {
   "cell_type": "code",
   "execution_count": 62,
   "metadata": {},
   "outputs": [],
   "source": [
    "### function to create a LSTM Cell\n",
    "def build_lstm(x,num_units, num_layers, keep_prob=1):\n",
    "    \n",
    "    def build_cell(num_units, keep_prob):\n",
    "        cell = tf.nn.rnn_cell.LSTMCell(num_units,reuse=tf.AUTO_REUSE)\n",
    "        cell = tf.nn.rnn_cell.DropoutWrapper(cell, output_keep_prob=keep_prob)\n",
    "        return cell\n",
    "    \n",
    "    cell = tf.nn.rnn_cell.MultiRNNCell([build_cell(num_units, keep_prob) for _ in range(num_layers)])\n",
    "    out, final_state = tf.nn.dynamic_rnn(cell,x,dtype=tf.float32)\n",
    "    \n",
    "    return out, final_state"
   ]
  },
  {
   "cell_type": "code",
   "execution_count": 63,
   "metadata": {},
   "outputs": [],
   "source": [
    "def rnn_classify(inputs, rnn_units=100, rnn_layers=2, keep_prob=1,num_class = 10):\n",
    "\n",
    "    rnn_out, rnn_state = build_lstm(x=inputs,num_units=rnn_units, num_layers=rnn_layers,keep_prob=keep_prob)\n",
    "    \n",
    "    net = slim.fully_connected(rnn_out, num_outputs=num_class, activation_fn=None, scope='classification')\n",
    "    \n",
    "    net = net[:,-1]\n",
    "    return net\n",
    "    "
   ]
  },
  {
   "cell_type": "code",
   "execution_count": 64,
   "metadata": {},
   "outputs": [
    {
     "data": {
      "text/plain": [
       "5"
      ]
     },
     "execution_count": 64,
     "metadata": {},
     "output_type": "execute_result"
    }
   ],
   "source": [
    "target_num"
   ]
  },
  {
   "cell_type": "code",
   "execution_count": 65,
   "metadata": {},
   "outputs": [],
   "source": [
    "out = rnn_classify(input_ph,rnn_units=100,rnn_layers=2,keep_prob=1,num_class=target_num)"
   ]
  },
  {
   "cell_type": "code",
   "execution_count": 66,
   "metadata": {},
   "outputs": [
    {
     "data": {
      "text/plain": [
       "TensorShape([Dimension(None), Dimension(5)])"
      ]
     },
     "execution_count": 66,
     "metadata": {},
     "output_type": "execute_result"
    }
   ],
   "source": [
    "out.shape"
   ]
  },
  {
   "cell_type": "code",
   "execution_count": 67,
   "metadata": {},
   "outputs": [
    {
     "data": {
      "text/plain": [
       "TensorShape([Dimension(None), Dimension(5)])"
      ]
     },
     "execution_count": 67,
     "metadata": {},
     "output_type": "execute_result"
    }
   ],
   "source": [
    "target_ph.shape"
   ]
  },
  {
   "cell_type": "code",
   "execution_count": 68,
   "metadata": {},
   "outputs": [],
   "source": [
    "loss = tf.losses.softmax_cross_entropy(logits=out, onehot_labels=target_ph)"
   ]
  },
  {
   "cell_type": "code",
   "execution_count": 69,
   "metadata": {},
   "outputs": [
    {
     "name": "stdout",
     "output_type": "stream",
     "text": [
      "WARNING:tensorflow:From <ipython-input-69-841a4259fb94>:1: arg_max (from tensorflow.python.ops.gen_math_ops) is deprecated and will be removed in a future version.\n",
      "Instructions for updating:\n",
      "Use `argmax` instead\n"
     ]
    }
   ],
   "source": [
    "acc =tf.reduce_mean(tf.cast(tf.equal(tf.arg_max(out,dimension=1),tf.arg_max(target_ph,dimension=1)),dtype=tf.float32)) "
   ]
  },
  {
   "cell_type": "code",
   "execution_count": 70,
   "metadata": {},
   "outputs": [],
   "source": [
    "#### defind optimizer\n",
    "lr = 0.001\n",
    "optimizer = tf.train.AdamOptimizer(lr)\n",
    "train_op = optimizer.minimize(loss)"
   ]
  },
  {
   "cell_type": "code",
   "execution_count": 71,
   "metadata": {},
   "outputs": [],
   "source": [
    "### create session to run the flow\n",
    "sess = tf.InteractiveSession()\n",
    "sess.run(tf.global_variables_initializer())"
   ]
  },
  {
   "cell_type": "markdown",
   "metadata": {},
   "source": [
    "##### training"
   ]
  },
  {
   "cell_type": "code",
   "execution_count": 72,
   "metadata": {},
   "outputs": [
    {
     "data": {
      "text/plain": [
       "TensorShape([Dimension(None), Dimension(5)])"
      ]
     },
     "execution_count": 72,
     "metadata": {},
     "output_type": "execute_result"
    }
   ],
   "source": [
    "target_ph.shape"
   ]
  },
  {
   "cell_type": "code",
   "execution_count": 73,
   "metadata": {},
   "outputs": [
    {
     "name": "stdout",
     "output_type": "stream",
     "text": [
      "Time Used:0.333\n"
     ]
    }
   ],
   "source": [
    "start=time.clock()\n",
    "time.sleep(20)\n",
    "end=time.clock()\n",
    "print('Time Used:{:.3f}'.format((end-start)/60))"
   ]
  },
  {
   "cell_type": "code",
   "execution_count": 74,
   "metadata": {},
   "outputs": [
    {
     "name": "stdout",
     "output_type": "stream",
     "text": [
      "STEP 10: train_loss: 1.6002,accuracy:0.2386\n",
      "STEP 20: train_loss: 1.5480,accuracy:0.2963\n",
      "STEP 30: train_loss: 1.3732,accuracy:0.4273\n",
      "STEP 40: train_loss: 1.1186,accuracy:0.5643\n",
      "STEP 50: train_loss: 0.5692,accuracy:0.8261\n",
      "STEP 60: train_loss: 0.2173,accuracy:0.9585\n",
      "Time Used:6.034\n"
     ]
    }
   ],
   "source": [
    "start=time.clock()\n",
    "\n",
    "for i in range(60):\n",
    "    loss_list = []\n",
    "    acc_list = []\n",
    "    for (X,Y) in get_batch(X_matrix,Y_matrix,batch_size=64):\n",
    "        feed_dict={target_ph:Y,input_ph:X}\n",
    "        sess.run(train_op,feed_dict=feed_dict)\n",
    "        loss_train,acc_train = sess.run([loss,acc],feed_dict=feed_dict)\n",
    "#         print(loss_train)\n",
    "        loss_list.append(loss_train)\n",
    "        acc_list.append(acc_train)\n",
    "        \n",
    "    if i%10==9:\n",
    "        print('STEP {}: train_loss: {:.4f},accuracy:{:.4f}'.format(i+1,np.mean(loss_list),np.mean(acc_list)))\n",
    "\n",
    "end=time.clock()\n",
    "print('Time Used:{:.3f}'.format((end-start)/60))"
   ]
  },
  {
   "cell_type": "code",
   "execution_count": 75,
   "metadata": {},
   "outputs": [],
   "source": [
    "### predict the latest time purchase\n",
    "predict_result = []\n",
    "real_result = []\n",
    "index = 0\n",
    "for (X,Y) in get_batch(X_matrix,Y_matrix,batch_size):\n",
    "    if index==0:\n",
    "        pred = sess.run(out,feed_dict={input_ph:X})\n",
    "    break"
   ]
  },
  {
   "cell_type": "code",
   "execution_count": 76,
   "metadata": {},
   "outputs": [
    {
     "data": {
      "text/plain": [
       "array([3, 4, 2, 4, 1, 3, 2, 0, 4, 1, 0, 0, 0, 3, 0, 4, 4, 4, 2, 4, 4, 0,\n",
       "       0, 1, 2, 1, 0, 2, 0, 0, 2, 3, 4, 0, 2, 0, 0, 2, 0, 3, 2, 3, 0, 2,\n",
       "       4, 4, 3, 2, 0, 4, 4, 2, 4, 4, 3, 1, 2, 2, 0, 0, 0, 4, 2, 3],\n",
       "      dtype=int64)"
      ]
     },
     "execution_count": 76,
     "metadata": {},
     "output_type": "execute_result"
    }
   ],
   "source": [
    "np.argmax(pred,1)"
   ]
  },
  {
   "cell_type": "code",
   "execution_count": 77,
   "metadata": {},
   "outputs": [
    {
     "data": {
      "text/plain": [
       "array([3, 4, 2, 4, 1, 3, 2, 0, 4, 1, 0, 0, 0, 3, 2, 4, 4, 4, 2, 4, 4, 0,\n",
       "       0, 1, 2, 1, 0, 2, 0, 0, 2, 3, 4, 0, 2, 0, 0, 2, 0, 3, 2, 3, 0, 2,\n",
       "       4, 4, 1, 2, 0, 4, 0, 2, 4, 4, 3, 2, 2, 2, 0, 0, 0, 4, 2, 3],\n",
       "      dtype=int64)"
      ]
     },
     "execution_count": 77,
     "metadata": {},
     "output_type": "execute_result"
    }
   ],
   "source": [
    "np.argmax(Y,1)"
   ]
  },
  {
   "cell_type": "code",
   "execution_count": 81,
   "metadata": {},
   "outputs": [
    {
     "data": {
      "text/plain": [
       "0.9375"
      ]
     },
     "execution_count": 81,
     "metadata": {},
     "output_type": "execute_result"
    }
   ],
   "source": [
    "np.mean((np.argmax(pred,1)==np.argmax(Y,1)))"
   ]
  },
  {
   "cell_type": "markdown",
   "metadata": {},
   "source": [
    "### CNN\n",
    "- The user behaviors can be treated as an images, so we can use CNN model as recommendation enginee"
   ]
  },
  {
   "cell_type": "code",
   "execution_count": 82,
   "metadata": {},
   "outputs": [],
   "source": [
    "from keras.layers import Dense, Conv2D,MaxPool2D,Flatten,Dropout\n",
    "from keras.layers import Activation\n",
    "from keras.models import Sequential\n",
    "from keras.optimizers import Adam "
   ]
  },
  {
   "cell_type": "code",
   "execution_count": 83,
   "metadata": {},
   "outputs": [],
   "source": [
    "model = Sequential()"
   ]
  },
  {
   "cell_type": "code",
   "execution_count": 84,
   "metadata": {},
   "outputs": [],
   "source": [
    "model.add(Conv2D( \n",
    "    input_shape = (max_lenghth,feature_length,1),\n",
    "    filters = 32,\n",
    "    kernel_size = 5,\n",
    "    strides = 1, ### 步长 \n",
    "    padding = 'same', \n",
    "    activation = 'relu' \n",
    "\n",
    ")) "
   ]
  },
  {
   "cell_type": "code",
   "execution_count": 85,
   "metadata": {},
   "outputs": [],
   "source": [
    "model.add(MaxPool2D( \n",
    "    pool_size = 2,\n",
    "    strides = 2,\n",
    "    padding = 'same', \n",
    "\n",
    "))"
   ]
  },
  {
   "cell_type": "code",
   "execution_count": 86,
   "metadata": {},
   "outputs": [],
   "source": [
    "\n",
    "model.add(Conv2D(filters=64,kernel_size=5,strides=1,padding='same',activation = 'relu')) \n",
    "\n",
    "model.add(MaxPool2D(pool_size=2,strides=2,padding='same')) "
   ]
  },
  {
   "cell_type": "code",
   "execution_count": 87,
   "metadata": {},
   "outputs": [],
   "source": [
    "model.add(Flatten()) "
   ]
  },
  {
   "cell_type": "code",
   "execution_count": 88,
   "metadata": {},
   "outputs": [],
   "source": [
    "model.add(Dense(512,activation = 'relu')) "
   ]
  },
  {
   "cell_type": "code",
   "execution_count": 89,
   "metadata": {},
   "outputs": [],
   "source": [
    "model.add(Dropout(0.8)) "
   ]
  },
  {
   "cell_type": "code",
   "execution_count": 90,
   "metadata": {},
   "outputs": [],
   "source": [
    "model.add(Dense(target_num,activation='softmax'))"
   ]
  },
  {
   "cell_type": "code",
   "execution_count": 91,
   "metadata": {},
   "outputs": [],
   "source": [
    "adam = Adam(lr=1e-4) \n",
    "model.compile(optimizer=adam,loss='categorical_crossentropy',metrics=['accuracy']) "
   ]
  },
  {
   "cell_type": "code",
   "execution_count": 92,
   "metadata": {},
   "outputs": [
    {
     "data": {
      "text/plain": [
       "(5000, 26, 35)"
      ]
     },
     "execution_count": 92,
     "metadata": {},
     "output_type": "execute_result"
    }
   ],
   "source": [
    "X_matrix.shape"
   ]
  },
  {
   "cell_type": "code",
   "execution_count": 93,
   "metadata": {},
   "outputs": [],
   "source": [
    "X_matrix_CNN = X_matrix.reshape(-1,max_lenghth,feature_length,1)"
   ]
  },
  {
   "cell_type": "code",
   "execution_count": 94,
   "metadata": {},
   "outputs": [
    {
     "data": {
      "text/plain": [
       "(5000, 5)"
      ]
     },
     "execution_count": 94,
     "metadata": {},
     "output_type": "execute_result"
    }
   ],
   "source": [
    "Y_matrix.shape"
   ]
  },
  {
   "cell_type": "code",
   "execution_count": 95,
   "metadata": {},
   "outputs": [
    {
     "data": {
      "text/plain": [
       "(5000, 26, 35, 1)"
      ]
     },
     "execution_count": 95,
     "metadata": {},
     "output_type": "execute_result"
    }
   ],
   "source": [
    "X_matrix_CNN.shape"
   ]
  },
  {
   "cell_type": "code",
   "execution_count": null,
   "metadata": {},
   "outputs": [],
   "source": []
  },
  {
   "cell_type": "code",
   "execution_count": 96,
   "metadata": {},
   "outputs": [
    {
     "name": "stdout",
     "output_type": "stream",
     "text": [
      "Epoch 1/55\n",
      "5000/5000 [==============================] - 5s - loss: 1.6195 - acc: 0.2028     \n",
      "Epoch 2/55\n",
      "5000/5000 [==============================] - 3s - loss: 1.6113 - acc: 0.2152     \n",
      "Epoch 3/55\n",
      "5000/5000 [==============================] - 3s - loss: 1.6079 - acc: 0.2170     \n",
      "Epoch 4/55\n",
      "5000/5000 [==============================] - 3s - loss: 1.6083 - acc: 0.2158     \n",
      "Epoch 5/55\n",
      "5000/5000 [==============================] - 3s - loss: 1.6071 - acc: 0.2142     \n",
      "Epoch 6/55\n",
      "5000/5000 [==============================] - 3s - loss: 1.6052 - acc: 0.2334     \n",
      "Epoch 7/55\n",
      "5000/5000 [==============================] - 3s - loss: 1.6028 - acc: 0.2286     \n",
      "Epoch 8/55\n",
      "5000/5000 [==============================] - 3s - loss: 1.6015 - acc: 0.2350     \n",
      "Epoch 9/55\n",
      "5000/5000 [==============================] - 3s - loss: 1.6001 - acc: 0.2420     \n",
      "Epoch 10/55\n",
      "5000/5000 [==============================] - 3s - loss: 1.5990 - acc: 0.2436     \n",
      "Epoch 11/55\n",
      "5000/5000 [==============================] - 3s - loss: 1.5941 - acc: 0.2522     \n",
      "Epoch 12/55\n",
      "5000/5000 [==============================] - 3s - loss: 1.5897 - acc: 0.2678     \n",
      "Epoch 13/55\n",
      "5000/5000 [==============================] - 3s - loss: 1.5853 - acc: 0.2756     \n",
      "Epoch 14/55\n",
      "5000/5000 [==============================] - 3s - loss: 1.5770 - acc: 0.2840     \n",
      "Epoch 15/55\n",
      "5000/5000 [==============================] - 3s - loss: 1.5734 - acc: 0.2846     \n",
      "Epoch 16/55\n",
      "5000/5000 [==============================] - 3s - loss: 1.5615 - acc: 0.3130     \n",
      "Epoch 17/55\n",
      "5000/5000 [==============================] - 3s - loss: 1.5559 - acc: 0.3140     \n",
      "Epoch 18/55\n",
      "5000/5000 [==============================] - 3s - loss: 1.5451 - acc: 0.3298     \n",
      "Epoch 19/55\n",
      "5000/5000 [==============================] - 3s - loss: 1.5334 - acc: 0.3446     \n",
      "Epoch 20/55\n",
      "5000/5000 [==============================] - 3s - loss: 1.5198 - acc: 0.3626     \n",
      "Epoch 21/55\n",
      "5000/5000 [==============================] - 3s - loss: 1.5064 - acc: 0.3728     \n",
      "Epoch 22/55\n",
      "5000/5000 [==============================] - 3s - loss: 1.4821 - acc: 0.3934     \n",
      "Epoch 23/55\n",
      "5000/5000 [==============================] - 3s - loss: 1.4671 - acc: 0.4128     \n",
      "Epoch 24/55\n",
      "5000/5000 [==============================] - 3s - loss: 1.4424 - acc: 0.4380     \n",
      "Epoch 25/55\n",
      "5000/5000 [==============================] - 3s - loss: 1.4149 - acc: 0.4582     \n",
      "Epoch 26/55\n",
      "5000/5000 [==============================] - 3s - loss: 1.3792 - acc: 0.4814     \n",
      "Epoch 27/55\n",
      "5000/5000 [==============================] - 3s - loss: 1.3531 - acc: 0.4948     \n",
      "Epoch 28/55\n",
      "5000/5000 [==============================] - 3s - loss: 1.3264 - acc: 0.5052     \n",
      "Epoch 29/55\n",
      "5000/5000 [==============================] - 3s - loss: 1.2859 - acc: 0.5580     \n",
      "Epoch 30/55\n",
      "5000/5000 [==============================] - 3s - loss: 1.2593 - acc: 0.5708     \n",
      "Epoch 31/55\n",
      "5000/5000 [==============================] - 3s - loss: 1.2115 - acc: 0.5906     \n",
      "Epoch 32/55\n",
      "5000/5000 [==============================] - 3s - loss: 1.1761 - acc: 0.6150     \n",
      "Epoch 33/55\n",
      "5000/5000 [==============================] - 3s - loss: 1.1269 - acc: 0.6390     \n",
      "Epoch 34/55\n",
      "5000/5000 [==============================] - 3s - loss: 1.0895 - acc: 0.6526     \n",
      "Epoch 35/55\n",
      "5000/5000 [==============================] - 3s - loss: 1.0445 - acc: 0.6740     \n",
      "Epoch 36/55\n",
      "5000/5000 [==============================] - 3s - loss: 1.0039 - acc: 0.6932     \n",
      "Epoch 37/55\n",
      "5000/5000 [==============================] - 3s - loss: 0.9566 - acc: 0.7138     \n",
      "Epoch 38/55\n",
      "5000/5000 [==============================] - 3s - loss: 0.9225 - acc: 0.7312     \n",
      "Epoch 39/55\n",
      "5000/5000 [==============================] - 3s - loss: 0.8789 - acc: 0.7566     \n",
      "Epoch 40/55\n",
      "5000/5000 [==============================] - 3s - loss: 0.8273 - acc: 0.7760     \n",
      "Epoch 41/55\n",
      "5000/5000 [==============================] - 3s - loss: 0.7892 - acc: 0.7816     \n",
      "Epoch 42/55\n",
      "5000/5000 [==============================] - 3s - loss: 0.7417 - acc: 0.8080     \n",
      "Epoch 43/55\n",
      "5000/5000 [==============================] - 3s - loss: 0.6984 - acc: 0.8236     \n",
      "Epoch 44/55\n",
      "5000/5000 [==============================] - 3s - loss: 0.6605 - acc: 0.8374     \n",
      "Epoch 45/55\n",
      "5000/5000 [==============================] - 3s - loss: 0.6278 - acc: 0.8470     \n",
      "Epoch 46/55\n",
      "5000/5000 [==============================] - 3s - loss: 0.5896 - acc: 0.8578     \n",
      "Epoch 47/55\n",
      "5000/5000 [==============================] - 3s - loss: 0.5537 - acc: 0.8720     \n",
      "Epoch 48/55\n",
      "5000/5000 [==============================] - 3s - loss: 0.5219 - acc: 0.8788     \n",
      "Epoch 49/55\n",
      "5000/5000 [==============================] - 3s - loss: 0.4905 - acc: 0.8930     \n",
      "Epoch 50/55\n",
      "5000/5000 [==============================] - 3s - loss: 0.4666 - acc: 0.9032     \n",
      "Epoch 51/55\n",
      "5000/5000 [==============================] - 3s - loss: 0.4333 - acc: 0.9146     \n",
      "Epoch 52/55\n",
      "5000/5000 [==============================] - 3s - loss: 0.4093 - acc: 0.9226     \n",
      "Epoch 53/55\n",
      "5000/5000 [==============================] - 3s - loss: 0.3758 - acc: 0.9326     \n",
      "Epoch 54/55\n",
      "5000/5000 [==============================] - 3s - loss: 0.3582 - acc: 0.9326     \n",
      "Epoch 55/55\n",
      "5000/5000 [==============================] - 3s - loss: 0.3326 - acc: 0.9452     \n"
     ]
    },
    {
     "data": {
      "text/plain": [
       "<keras.callbacks.History at 0x1d65a060a90>"
      ]
     },
     "execution_count": 96,
     "metadata": {},
     "output_type": "execute_result"
    },
    {
     "name": "stdout",
     "output_type": "stream",
     "text": [
      "4928/5000 [============================>.] - ETA: 0strain loss 0.21278001284599304\n",
      "train accuracy 0.9966\n",
      "Time Used:3.450\n"
     ]
    }
   ],
   "source": [
    "start=time.clock()\n",
    "model.fit(X_matrix_CNN,Y_matrix,batch_size=64,epochs=55) \n",
    "loss,accuracy = model.evaluate(X_matrix_CNN,Y_matrix) \n",
    "print('train loss',loss) \n",
    "print('train accuracy',accuracy)\n",
    "end=time.clock()\n",
    "print('Time Used:{:.3f}'.format((end-start)/60))"
   ]
  },
  {
   "cell_type": "markdown",
   "metadata": {},
   "source": [
    "#### By simple comparation, the performance of CNN is obviously better than that of CNN, and its training time is shorter than RNN.\n",
    "because the RNN is trained serially each stage but CNN directly read the images as input data."
   ]
  },
  {
   "cell_type": "code",
   "execution_count": null,
   "metadata": {},
   "outputs": [],
   "source": []
  }
 ],
 "metadata": {
  "kernelspec": {
   "display_name": "py36-gpu",
   "language": "python",
   "name": "py36-gpu"
  },
  "language_info": {
   "codemirror_mode": {
    "name": "ipython",
    "version": 3
   },
   "file_extension": ".py",
   "mimetype": "text/x-python",
   "name": "python",
   "nbconvert_exporter": "python",
   "pygments_lexer": "ipython3",
   "version": "3.6.7"
  }
 },
 "nbformat": 4,
 "nbformat_minor": 2
}
